{
 "cells": [
  {
   "cell_type": "code",
   "execution_count": 14,
   "id": "6fffb37f-bb07-452a-9b77-55839eef953f",
   "metadata": {},
   "outputs": [],
   "source": [
    "#! /usr/bin/env python\n",
    "# -*- coding: utf-8 -*-\n",
    "# Authors: Maxime Goffart and Olivier Joris\n",
    "\n",
    "import os\n",
    "import random\n",
    "import numpy as np\n",
    "import matplotlib.pyplot as plt\n",
    "\n",
    "from sklearn.impute import KNNImputer\n",
    "from sklearn.svm import SVC\n",
    "from sklearn.metrics import accuracy_score\n",
    "from scipy import stats\n",
    "from scipy.signal import find_peaks"
   ]
  },
  {
   "cell_type": "code",
   "execution_count": 15,
   "id": "57886d42-99ab-47dc-8c90-3962488e9ab5",
   "metadata": {},
   "outputs": [],
   "source": [
    "def load_data(data_path):\n",
    "    \"\"\"\n",
    "    Load the data for the classifer.\n",
    "    Method given with the assignment. Authors: Antonio Sutera & Yann Claess.\n",
    "\n",
    "    Argument:\n",
    "    ---------\n",
    "    - `data_path`: Path to the data folder.\n",
    "    \"\"\"\n",
    "\n",
    "    FEATURES = range(2, 33)\n",
    "    N_TIME_SERIES = 3500\n",
    "\n",
    "    # Create the training and testing samples\n",
    "    LS_path = os.path.join(data_path, 'LS')\n",
    "    TS_path = os.path.join(data_path, 'TS')\n",
    "    X_train, X_test = [np.zeros((N_TIME_SERIES, (len(FEATURES) * 512))) for i in range(2)]\n",
    "\n",
    "    for f in FEATURES:\n",
    "        print(\"Loading feature {}...\".format(f))\n",
    "        data = np.loadtxt(os.path.join(LS_path, 'LS_sensor_{}.txt'.format(f)))\n",
    "        X_train[:, (f-2)*512:(f-2+1)*512] = data\n",
    "        data = np.loadtxt(os.path.join(TS_path, 'TS_sensor_{}.txt'.format(f)))\n",
    "        X_test[:, (f-2)*512:(f-2+1)*512] = data\n",
    "    \n",
    "    y_train = np.loadtxt(os.path.join(LS_path, 'activity_Id.txt'))\n",
    "\n",
    "    print('X_train size: {}.'.format(X_train.shape))\n",
    "    print('y_train size: {}.'.format(y_train.shape))\n",
    "    print('X_test size: {}.'.format(X_test.shape))\n",
    "\n",
    "    return X_train, y_train, X_test\n",
    "\n",
    "def write_submission(y, where, submission_name='toy_submission.csv'):\n",
    "    \"\"\"\n",
    "    Method given with the assignment. Authors: Antonio Sutera & Yann Claess.\n",
    "\n",
    "    Arguments:\n",
    "    ----------\n",
    "    - `y`: Predictions to write.\n",
    "    - `where`: Path to the file in which to write.\n",
    "    - `submission_name`: Name of the file.\n",
    "    \"\"\"\n",
    "\n",
    "    os.makedirs(where, exist_ok=True)\n",
    "\n",
    "    SUBMISSION_PATH = os.path.join(where, submission_name)\n",
    "    if os.path.exists(SUBMISSION_PATH):\n",
    "        os.remove(SUBMISSION_PATH)\n",
    "\n",
    "    y = y.astype(int)\n",
    "    outputs = np.unique(y)\n",
    "\n",
    "    # Verify conditions on the predictions\n",
    "    if np.max(outputs) > 14:\n",
    "        raise ValueError('Class {} does not exist.'.format(np.max(outputs)))\n",
    "    if np.min(outputs) < 1:\n",
    "        raise ValueError('Class {} does not exist.'.format(np.min(outputs)))\n",
    "    \n",
    "    # Write submission file\n",
    "    with open(SUBMISSION_PATH, 'a') as file:\n",
    "        n_samples = len(y)\n",
    "        if n_samples != 3500:\n",
    "            raise ValueError('Check the number of predicted values.')\n",
    "\n",
    "        file.write('Id,Prediction\\n')\n",
    "\n",
    "        for n, i in enumerate(y):\n",
    "            file.write('{},{}\\n'.format(n+1, int(i)))\n",
    "\n",
    "    print('Submission {} saved in {}.'.format(submission_name, SUBMISSION_PATH))"
   ]
  },
  {
   "cell_type": "code",
   "execution_count": 18,
   "id": "3804d160-ade9-44f6-8e82-28ee345544f6",
   "metadata": {},
   "outputs": [],
   "source": [
    "def feature_extraction(X_train, X_test, data_path):\n",
    "    \"\"\"\n",
    "    Feature extraction.\n",
    "\n",
    "    Arguments:\n",
    "    ----------\n",
    "    - `X_train`: Inputs of LS.\n",
    "    - `X_test`: Inputs of TS.\n",
    "    \n",
    "    Return:\n",
    "    -------\n",
    "    Inputs of LS and TS after feature extraction.\n",
    "    \"\"\"\n",
    "\n",
    "    FEATURES = range(2, 33)\n",
    "    N_TIME_SERIES = 3500\n",
    "    N_ATTRIBUTES = 16\n",
    "\n",
    "    LS_path = os.path.join(data_path, 'LS')\n",
    "    TS_path = os.path.join(data_path, 'TS')\n",
    "\n",
    "    new_X_train = np.zeros((N_TIME_SERIES, len(FEATURES) * N_ATTRIBUTES))\n",
    "    new_X_test = np.zeros((N_TIME_SERIES, len(FEATURES) * N_ATTRIBUTES))\n",
    "\n",
    "    LS_subject_id = np.loadtxt(os.path.join(LS_path, 'subject_Id.txt'))\n",
    "    TS_subject_id = np.loadtxt(os.path.join(TS_path, 'subject_Id.txt'))\n",
    "\n",
    "    # subject id\n",
    "    new_X_train[:, 0] = LS_subject_id\n",
    "    new_X_test[:, 0] = TS_subject_id\n",
    "\n",
    "    for i in range(N_TIME_SERIES):\n",
    "        if not i%250:\n",
    "            print(\"Working on time serie {}...\".format(i))\n",
    "        for f in FEATURES:\n",
    "            index = 1\n",
    "            # mean\n",
    "            new_X_train[i][(f-2)*N_ATTRIBUTES+index] = np.mean(X_train[i][(f-2)*512:(f-2+1)*512])\n",
    "            new_X_test[i][(f-2)*N_ATTRIBUTES+index] = np.mean(X_test[i][(f-2)*512:(f-2+1)*512])\n",
    "\n",
    "            index += 1\n",
    "            # stddev\n",
    "            new_X_train[i][(f-2)*N_ATTRIBUTES+index] = np.std(X_train[i][(f-2)*512:(f-2+1)*512])\n",
    "            new_X_test[i][(f-2)*N_ATTRIBUTES+index] = np.std(X_test[i][(f-2)*512:(f-2+1)*512])\n",
    "\n",
    "            index += 1\n",
    "            # median\n",
    "            new_X_train[i][(f-2)*N_ATTRIBUTES+index] = np.median(X_train[i][(f-2)*512:(f-2+1)*512])\n",
    "            new_X_test[i][(f-2)*N_ATTRIBUTES+index] = np.median(X_test[i][(f-2)*512:(f-2+1)*512])\n",
    "\n",
    "            index += 1\n",
    "            # min\n",
    "            new_X_train[i][(f-2)*N_ATTRIBUTES+index] = np.min(X_train[i][(f-2)*512:(f-2+1)*512])\n",
    "            new_X_test[i][(f-2)*N_ATTRIBUTES+index] = np.min(X_test[i][(f-2)*512:(f-2+1)*512])\n",
    "\n",
    "            index += 1\n",
    "            # max\n",
    "            new_X_train[i][(f-2)*N_ATTRIBUTES+index] = np.max(X_train[i][(f-2)*512:(f-2+1)*512])\n",
    "            new_X_test[i][(f-2)*N_ATTRIBUTES+index] = np.max(X_test[i][(f-2)*512:(f-2+1)*512])\n",
    "\n",
    "            index += 1\n",
    "            # median absolute deviation\n",
    "            new_X_train[i][(f-2)*N_ATTRIBUTES+index] = np.apply_along_axis(lambda x: np.median(np.absolute(x - np.median(x))), 0, X_train[i][(f-2)*512:(f-2+1)*512])\n",
    "            new_X_test[i][(f-2)*N_ATTRIBUTES+index] = np.apply_along_axis(lambda x: np.median(np.absolute(x - np.median(x))), 0, X_test[i][(f-2)*512:(f-2+1)*512])\n",
    "\n",
    "            index += 1\n",
    "            # range\n",
    "            new_X_train[i][(f-2)*N_ATTRIBUTES+index] = np.max(X_train[i][(f-2)*512:(f-2+1)*512]) - np.min(X_train[i][(f-2)*512:(f-2+1)*512])\n",
    "            new_X_test[i][(f-2)*N_ATTRIBUTES+index] = np.max(X_test[i][(f-2)*512:(f-2+1)*512]) - np.min(X_test[i][(f-2)*512:(f-2+1)*512])\n",
    "\n",
    "            index += 1\n",
    "            # interquartile range\n",
    "            new_X_train[i][(f-2)*N_ATTRIBUTES+index] = np.apply_along_axis(lambda x: np.percentile(x, 75) - np.percentile(x, 25), 0, X_train[i][(f-2)*512:(f-2+1)*512])\n",
    "            new_X_test[i][(f-2)*N_ATTRIBUTES+index] = np.apply_along_axis(lambda x: np.percentile(x, 75) - np.percentile(x, 25), 0, X_test[i][(f-2)*512:(f-2+1)*512])\n",
    "\n",
    "            index += 1\n",
    "            # positive values\n",
    "            new_X_train[i][(f-2)*N_ATTRIBUTES+index] = np.apply_along_axis(lambda x: np.sum(x > 0), 0, X_train[i][(f-2)*512:(f-2+1)*512])\n",
    "            new_X_test[i][(f-2)*N_ATTRIBUTES+index] = np.apply_along_axis(lambda x: np.sum(x > 0), 0, X_test[i][(f-2)*512:(f-2+1)*512])\n",
    "\n",
    "            index += 1\n",
    "            # negative values\n",
    "            new_X_train[i][(f-2)*N_ATTRIBUTES+index] = np.apply_along_axis(lambda x: np.sum(x < 0), 0, X_train[i][(f-2)*512:(f-2+1)*512])\n",
    "            new_X_test[i][(f-2)*N_ATTRIBUTES+index] = np.apply_along_axis(lambda x: np.sum(x < 0), 0, X_test[i][(f-2)*512:(f-2+1)*512])\n",
    "\n",
    "            index += 1\n",
    "            # values above mean\n",
    "            new_X_train[i][(f-2)*N_ATTRIBUTES+index] = np.apply_along_axis(lambda x: np.sum(x > np.mean(x)), 0, X_train[i][(f-2)*512:(f-2+1)*512])\n",
    "            new_X_test[i][(f-2)*N_ATTRIBUTES+index] = np.apply_along_axis(lambda x: np.sum(x > np.mean(x)), 0, X_test[i][(f-2)*512:(f-2+1)*512])\n",
    "\n",
    "            index += 1\n",
    "            # nb of peaks\n",
    "            new_X_train[i][(f-2)*N_ATTRIBUTES+index] = np.apply_along_axis(lambda x: len(find_peaks(x)[0]), 0, X_train[i][(f-2)*512:(f-2+1)*512])\n",
    "            new_X_test[i][(f-2)*N_ATTRIBUTES+index] = np.apply_along_axis(lambda x: len(find_peaks(x)[0]), 0, X_test[i][(f-2)*512:(f-2+1)*512])\n",
    "\n",
    "            index += 1\n",
    "            # skewness\n",
    "            new_X_train[i][(f-2)*N_ATTRIBUTES+index] = np.apply_along_axis(lambda x: stats.skew(x), 0, X_train[i][(f-2)*512:(f-2+1)*512])\n",
    "            new_X_test[i][(f-2)*N_ATTRIBUTES+index] = np.apply_along_axis(lambda x: stats.skew(x), 0, X_test[i][(f-2)*512:(f-2+1)*512])\n",
    "\n",
    "            index += 1\n",
    "            # kurtosis\n",
    "            new_X_train[i][(f-2)*N_ATTRIBUTES+index] = np.apply_along_axis(lambda x: stats.kurtosis(x), 0, X_train[i][(f-2)*512:(f-2+1)*512])\n",
    "            new_X_test[i][(f-2)*N_ATTRIBUTES+index] = np.apply_along_axis(lambda x: stats.kurtosis(x), 0, X_test[i][(f-2)*512:(f-2+1)*512])\n",
    "\n",
    "            index += 1\n",
    "            # mean absolute deviation\n",
    "            new_X_train[i][(f-2)*N_ATTRIBUTES+index] = np.apply_along_axis(lambda x: np.mean(np.absolute(x - np.mean(x))), 0, X_train[i][(f-2)*512:(f-2+1)*512])\n",
    "            new_X_test[i][(f-2)*N_ATTRIBUTES+index] = np.apply_along_axis(lambda x: np.mean(np.absolute(x - np.mean(x))), 0, X_test[i][(f-2)*512:(f-2+1)*512])\n",
    "\n",
    "    return new_X_train, new_X_test"
   ]
  },
  {
   "cell_type": "code",
   "execution_count": 1,
   "id": "95f0f232-ac0b-4935-8ab1-772c484392f4",
   "metadata": {},
   "outputs": [],
   "source": [
    "def evaluate_svc(X_train, y_train, X_test, regularization: float, gamma='scale', nb_iter=10, verbose=True):\n",
    "    \"\"\"\n",
    "    Evaluate the performances of SVM (sklearn.svm.SVC) by splitting the LS.\n",
    "    \n",
    "    Arguments:\n",
    "    ----------\n",
    "    - `X_train`: Input of LS.\n",
    "    - `y_train`: Output of LS.\n",
    "    - `X_test`: Input of TS.\n",
    "    - `regularization`: Value for regularization parameter (denoted C in scikit).\n",
    "    - `gamma`: Gamma parameter for SVC.\n",
    "    - `nb_iter`: Number of iterations to get average performance.\n",
    "    - `verbose`: Whether or not to display info about on going computations.\n",
    "    \n",
    "    Return:\n",
    "    -------\n",
    "    Array of mean scores of size nb_iter.\n",
    "    \"\"\"\n",
    "\n",
    "    LS_path = os.path.join('data', 'LS')   \n",
    "    LS_subject_id = np.loadtxt(os.path.join(LS_path, 'subject_Id.txt'))\n",
    "\n",
    "    iter_nb = nb_iter\n",
    "\n",
    "    ids = [1, 2, 3, 4, 5]\n",
    "    learning_id = [0, 0, 0]   \n",
    "    scores = np.zeros(iter_nb)\n",
    "\n",
    "    random.seed()\n",
    "\n",
    "    for j in range(iter_nb):\n",
    "        if verbose:\n",
    "            print(\"Working on iteration {}...\".format(j))\n",
    "        random.shuffle(ids)\n",
    "\n",
    "        for i in range(3):\n",
    "            learning_id[i] = ids[i]\n",
    "\n",
    "        unique_ls, count_ls = np.unique(LS_subject_id, return_counts = True)\n",
    "\n",
    "        count = np.asarray((unique_ls, count_ls))\n",
    "\n",
    "        training_size = int(count[1][learning_id[0] - 1] + count[1][learning_id[1] - 1] + count[1][learning_id[2] - 1])\n",
    "\n",
    "        X_train_split = np.zeros((training_size, X_train.shape[1]))\n",
    "        X_test_split = np.zeros((3500 - training_size, X_test.shape[1]))\n",
    "\n",
    "        y_train_split = np.zeros((training_size))\n",
    "        y_test_split = np.zeros((3500 - training_size))\n",
    "\n",
    "        training_current_size, testing_current_size = 0, 0\n",
    "\n",
    "        for i in range(3500):\n",
    "            if LS_subject_id[i] in learning_id:\n",
    "                X_train_split[training_current_size] = X_train[i]\n",
    "                y_train_split[training_current_size] = y_train[i]\n",
    "                training_current_size += 1\n",
    "            else:\n",
    "                X_test_split[testing_current_size] = X_train[i]\n",
    "                y_test_split[testing_current_size] = y_train[i]\n",
    "                testing_current_size += 1\n",
    "\n",
    "        clf = SVC(random_state=0, probability=True, C=regularization, gamma=gamma).fit(X_train_split, y_train_split)\n",
    "        y_pred = clf.predict(X_test_split)\n",
    "        scores[j] = accuracy_score(y_test_split, y_pred)\n",
    "\n",
    "    return scores"
   ]
  },
  {
   "cell_type": "code",
   "execution_count": 17,
   "id": "c4972da7-00f2-4c12-a23c-10f5123562f8",
   "metadata": {},
   "outputs": [
    {
     "name": "stdout",
     "output_type": "stream",
     "text": [
      "Loading feature 2...\n",
      "Loading feature 3...\n",
      "Loading feature 4...\n",
      "Loading feature 5...\n",
      "Loading feature 6...\n",
      "Loading feature 7...\n",
      "Loading feature 8...\n",
      "Loading feature 9...\n",
      "Loading feature 10...\n",
      "Loading feature 11...\n",
      "Loading feature 12...\n",
      "Loading feature 13...\n",
      "Loading feature 14...\n",
      "Loading feature 15...\n",
      "Loading feature 16...\n",
      "Loading feature 17...\n",
      "Loading feature 18...\n",
      "Loading feature 19...\n",
      "Loading feature 20...\n",
      "Loading feature 21...\n",
      "Loading feature 22...\n",
      "Loading feature 23...\n",
      "Loading feature 24...\n",
      "Loading feature 25...\n",
      "Loading feature 26...\n",
      "Loading feature 27...\n",
      "Loading feature 28...\n",
      "Loading feature 29...\n",
      "Loading feature 30...\n",
      "Loading feature 31...\n",
      "Loading feature 32...\n",
      "X_train size: (3500, 15872).\n",
      "y_train size: (3500,).\n",
      "X_test size: (3500, 15872).\n"
     ]
    }
   ],
   "source": [
    "# Load original data\n",
    "init_X_train, y_train, init_X_test = load_data('data')"
   ]
  },
  {
   "cell_type": "code",
   "execution_count": 19,
   "id": "190d80e9-ce7e-46c7-8df5-542f95cec4f8",
   "metadata": {},
   "outputs": [],
   "source": [
    "# Replace missing values\n",
    "imputer = KNNImputer(n_neighbors = 5, weights = 'distance', missing_values = -999999.99)\n",
    "init_X_train = imputer.fit_transform(init_X_train)"
   ]
  },
  {
   "cell_type": "code",
   "execution_count": 21,
   "id": "e73334bc-436e-4725-b644-85efd5869fb4",
   "metadata": {},
   "outputs": [
    {
     "name": "stdout",
     "output_type": "stream",
     "text": [
      "Working on time serie 0...\n",
      "Working on time serie 250...\n",
      "Working on time serie 500...\n",
      "Working on time serie 750...\n",
      "Working on time serie 1000...\n",
      "Working on time serie 1250...\n",
      "Working on time serie 1500...\n",
      "Working on time serie 1750...\n",
      "Working on time serie 2000...\n",
      "Working on time serie 2250...\n",
      "Working on time serie 2500...\n",
      "Working on time serie 2750...\n",
      "Working on time serie 3000...\n",
      "Working on time serie 3250...\n"
     ]
    }
   ],
   "source": [
    "# Feature extraction\n",
    "X_train, X_test = feature_extraction(init_X_train, init_X_test, 'data')"
   ]
  },
  {
   "cell_type": "code",
   "execution_count": 50,
   "id": "487d06da-ca65-4942-80a8-e7e781b5446e",
   "metadata": {},
   "outputs": [
    {
     "name": "stdout",
     "output_type": "stream",
     "text": [
      "(3500, 496)\n",
      "(3500, 496)\n"
     ]
    }
   ],
   "source": [
    "print(X_train.shape)\n",
    "print(X_test.shape)"
   ]
  },
  {
   "cell_type": "markdown",
   "id": "fef68b59-8c5e-4293-a3bf-3f6004ebb083",
   "metadata": {},
   "source": [
    "Study the performances of SVM (sklearn.svm.SVC)"
   ]
  },
  {
   "cell_type": "markdown",
   "id": "9449046a-2f57-4e2f-82fb-6cca5b5f6c58",
   "metadata": {},
   "source": [
    "First study of performances for values of C in [1.0, 1000.0]"
   ]
  },
  {
   "cell_type": "code",
   "execution_count": 51,
   "id": "2bcb9738-efb2-49f7-b295-b10d26ca9eb6",
   "metadata": {},
   "outputs": [
    {
     "name": "stdout",
     "output_type": "stream",
     "text": [
      "Working on reg param 1.0...\n",
      "Working on reg param 100.0...\n",
      "Working on reg param 200.0...\n",
      "Working on reg param 300.0...\n",
      "Working on reg param 400.0...\n",
      "Working on reg param 500.0...\n",
      "Working on reg param 600.0...\n",
      "Working on reg param 700.0...\n",
      "Working on reg param 800.0...\n",
      "Working on reg param 900.0...\n",
      "Working on reg param 1000.0...\n"
     ]
    },
    {
     "data": {
      "image/png": "[encoded data removed]",
      "text/plain": [
       "<Figure size 432x288 with 1 Axes>"
      ]
     },
     "metadata": {
      "needs_background": "light"
     },
     "output_type": "display_data"
    },
    {
     "name": "stdout",
     "output_type": "stream",
     "text": [
      "Max accuracy = 0.5909758672068238 for regularization = 800.0\n"
     ]
    }
   ],
   "source": [
    "regularizations = [1.0]\n",
    "scoreMeans = []\n",
    "reg = 100.0\n",
    "while reg <= 1000.0:\n",
    "    regularizations.append(reg)\n",
    "    reg+=100.0\n",
    "for reg in regularizations:\n",
    "    print(\"Working on reg param {}...\".format(reg))\n",
    "    scores = evaluate_svc(X_train, y_train, X_test, reg, verbose=False)\n",
    "    scoreMeans.append(scores.mean())\n",
    "plt.plot(regularizations, scoreMeans)\n",
    "plt.xlabel(\"Value of regularization parameter\")\n",
    "plt.ylabel(\"Accuracy\")\n",
    "plt.title(\"Mean accuracies of SVC\")\n",
    "plt.savefig('svm_svc_accuracies_1.png')\n",
    "plt.show()\n",
    "print(\"Max accuracy = {} for regularization = {}\".format(max(scoreMeans), regularizations[scoreMeans.index(max(scoreMeans))]))"
   ]
  },
  {
   "cell_type": "markdown",
   "id": "c3d25228-e95b-470b-bd3c-2cc76a263e9e",
   "metadata": {},
   "source": [
    "Second study of performances for values of C in [1.0, 100.0]"
   ]
  },
  {
   "cell_type": "code",
   "execution_count": 52,
   "id": "05aad4ce-0766-4f66-b688-fc07f13e067a",
   "metadata": {},
   "outputs": [
    {
     "name": "stdout",
     "output_type": "stream",
     "text": [
      "Working on reg param 1.0...\n",
      "Working on reg param 10.0...\n",
      "Working on reg param 20.0...\n",
      "Working on reg param 30.0...\n",
      "Working on reg param 40.0...\n",
      "Working on reg param 50.0...\n",
      "Working on reg param 60.0...\n",
      "Working on reg param 70.0...\n",
      "Working on reg param 80.0...\n",
      "Working on reg param 90.0...\n",
      "Working on reg param 100.0...\n"
     ]
    },
    {
     "data": {
      "image/png": "[encoded data removed]",
      "text/plain": [
       "<Figure size 432x288 with 1 Axes>"
      ]
     },
     "metadata": {
      "needs_background": "light"
     },
     "output_type": "display_data"
    },
    {
     "name": "stdout",
     "output_type": "stream",
     "text": [
      "Max accuracy = 0.595527691362028 for regularization = 100.0\n"
     ]
    }
   ],
   "source": [
    "regularizations = [1.0]\n",
    "scoreMeans = []\n",
    "reg = 10.0\n",
    "while reg <= 100.0:\n",
    "    regularizations.append(reg)\n",
    "    reg+=10.0\n",
    "for reg in regularizations:\n",
    "    print(\"Working on reg param {}...\".format(reg))\n",
    "    scores = evaluate_svc(X_train, y_train, X_test, reg, verbose=False)\n",
    "    scoreMeans.append(scores.mean())\n",
    "plt.plot(regularizations, scoreMeans)\n",
    "plt.xlabel(\"Value of regularization parameter\")\n",
    "plt.ylabel(\"Accuracy\")\n",
    "plt.title(\"Mean accuracies of SVC\")\n",
    "plt.savefig('svm_svc_accuracies_2.png')\n",
    "plt.show()\n",
    "print(\"Max accuracy = {} for regularization = {}\".format(max(scoreMeans), regularizations[scoreMeans.index(max(scoreMeans))]))"
   ]
  },
  {
   "cell_type": "markdown",
   "id": "444872dd-83f6-4ee0-b449-1a3bc785f5fa",
   "metadata": {},
   "source": [
    "Third study of performances for values of C in [1.0, 20.0]"
   ]
  },
  {
   "cell_type": "code",
   "execution_count": 53,
   "id": "a68ffb3c-193c-4b30-a935-41c71890835f",
   "metadata": {},
   "outputs": [
    {
     "name": "stdout",
     "output_type": "stream",
     "text": [
      "Working on reg param 1.0...\n",
      "Working on reg param 3.0...\n",
      "Working on reg param 5.0...\n",
      "Working on reg param 7.0...\n",
      "Working on reg param 9.0...\n",
      "Working on reg param 11.0...\n",
      "Working on reg param 13.0...\n",
      "Working on reg param 15.0...\n",
      "Working on reg param 17.0...\n",
      "Working on reg param 19.0...\n"
     ]
    },
    {
     "data": {
      "image/png": "[encoded data removed]",
      "text/plain": [
       "<Figure size 432x288 with 1 Axes>"
      ]
     },
     "metadata": {
      "needs_background": "light"
     },
     "output_type": "display_data"
    },
    {
     "name": "stdout",
     "output_type": "stream",
     "text": [
      "Max accuracy = 0.5935856987845591 for regularization = 13.0\n"
     ]
    }
   ],
   "source": [
    "regularizations = []\n",
    "scoreMeans = []\n",
    "reg = 1.0\n",
    "while reg < 21.0:\n",
    "    print(\"Working on reg param {}...\".format(reg))\n",
    "    regularizations.append(reg)\n",
    "    scores = evaluate_svc(X_train, y_train, X_test, reg, verbose=False)\n",
    "    scoreMeans.append(scores.mean())\n",
    "    reg+=2.0\n",
    "plt.plot(regularizations, scoreMeans)\n",
    "plt.xlabel(\"Value of regularization parameter\")\n",
    "plt.ylabel(\"Accuracy\")\n",
    "plt.xlim((0, 20))\n",
    "plt.title(\"Mean accuracies of SVC\")\n",
    "plt.savefig('svm_svc_accuracies_3.png')\n",
    "plt.show()\n",
    "print(\"Max accuracy = {} for regularization = {}\".format(max(scoreMeans), regularizations[scoreMeans.index(max(scoreMeans))]))"
   ]
  },
  {
   "cell_type": "markdown",
   "id": "abeb57e7-f30f-49b9-84df-6165894a2f87",
   "metadata": {},
   "source": [
    "Test of performances for given values of C"
   ]
  },
  {
   "cell_type": "code",
   "execution_count": 54,
   "id": "e3972e3f-c22c-4145-9aec-ffb155d54763",
   "metadata": {},
   "outputs": [
    {
     "name": "stdout",
     "output_type": "stream",
     "text": [
      "SVM C=10.0 = 0.596482862259368\n",
      "SVM C=100.0 = 0.5760495633955228\n",
      "SVM C=1000.0 = 0.5715470361209729\n",
      "SVM C=10000.0 = 0.5475459589467512\n"
     ]
    }
   ],
   "source": [
    "print(\"SVM C=10.0 = {}\".format(evaluate_svc(X_train, y_train, X_test, 10.0, verbose=False).mean()))\n",
    "print(\"SVM C=100.0 = {}\".format(evaluate_svc(X_train, y_train, X_test, 100.0, verbose=False).mean()))\n",
    "print(\"SVM C=1000.0 = {}\".format(evaluate_svc(X_train, y_train, X_test, 1000.0, verbose=False).mean()))\n",
    "print(\"SVM C=10000.0 = {}\".format(evaluate_svc(X_train, y_train, X_test, 10000.0, verbose=False).mean()))"
   ]
  },
  {
   "cell_type": "markdown",
   "id": "f6d71f2f-9d64-449d-bc23-4bdb38e99496",
   "metadata": {},
   "source": [
    "One test where gamma = 'auto'"
   ]
  },
  {
   "cell_type": "code",
   "execution_count": 55,
   "id": "501afa75-a208-452c-8760-a6a0a3dcc5d5",
   "metadata": {},
   "outputs": [
    {
     "name": "stdout",
     "output_type": "stream",
     "text": [
      "SVM - gamma auto = 0.03081469689487092\n"
     ]
    }
   ],
   "source": [
    "print(\"SVM - gamma auto = {}\".format(evaluate_svc(X_train, y_train, X_test, 1.0, gamma='auto', verbose=False).mean()))"
   ]
  },
  {
   "cell_type": "markdown",
   "id": "2919b583-35c7-4044-b18a-d743d05b8816",
   "metadata": {},
   "source": [
    "Thinner study of performances for values of C in [1.0, 120.0]"
   ]
  },
  {
   "cell_type": "code",
   "execution_count": 59,
   "id": "f508d299-ed95-4324-86b8-12864f33da2f",
   "metadata": {},
   "outputs": [
    {
     "name": "stdout",
     "output_type": "stream",
     "text": [
      "Working on reg param 1.0...\n",
      "Working on reg param 10.0...\n",
      "Working on reg param 20.0...\n",
      "Working on reg param 30.0...\n",
      "Working on reg param 40.0...\n",
      "Working on reg param 50.0...\n",
      "Working on reg param 60.0...\n",
      "Working on reg param 70.0...\n",
      "Working on reg param 80.0...\n",
      "Working on reg param 90.0...\n",
      "Working on reg param 100.0...\n",
      "Working on reg param 110.0...\n",
      "Working on reg param 120.0...\n"
     ]
    },
    {
     "data": {
      "image/png": "[encoded data removed]",
      "text/plain": [
       "<Figure size 432x288 with 1 Axes>"
      ]
     },
     "metadata": {
      "needs_background": "light"
     },
     "output_type": "display_data"
    },
    {
     "name": "stdout",
     "output_type": "stream",
     "text": [
      "Max accuracy = 0.5956468368018641 for regularization = 60.0\n"
     ]
    }
   ],
   "source": [
    "regularizations = [1.0]\n",
    "scoreMeans = []\n",
    "reg = 10.0\n",
    "while reg <= 120.0:\n",
    "    regularizations.append(reg)\n",
    "    reg+=10.0\n",
    "for reg in regularizations:\n",
    "    print(\"Working on reg param {}...\".format(reg))\n",
    "    scores = evaluate_svc(X_train, y_train, X_test, reg, nb_iter=20, verbose=False)\n",
    "    scoreMeans.append(scores.mean())\n",
    "plt.plot(regularizations, scoreMeans)\n",
    "plt.xlabel(\"Value of regularization parameter\")\n",
    "plt.ylabel(\"Accuracy\")\n",
    "plt.title(\"Mean accuracies of SVC\")\n",
    "plt.savefig('svm_svc_accuracies_4.png')\n",
    "plt.show()\n",
    "print(\"Max accuracy = {} for regularization = {}\".format(max(scoreMeans), regularizations[scoreMeans.index(max(scoreMeans))]))"
   ]
  },
  {
   "cell_type": "markdown",
   "id": "155a3f8a-7698-45b1-b2f8-208068dea2f9",
   "metadata": {},
   "source": [
    "Using a SVM with a regularization of 60 gives a high accuracy as we can see on the previous graph.\n",
    "Thus, we will use a SVM (sklearn.svm.SVC) with a regularization of 60."
   ]
  }
 ],
 "metadata": {
  "kernelspec": {
   "display_name": "Python 3 (ipykernel)",
   "language": "python",
   "name": "python3"
  },
  "language_info": {
   "codemirror_mode": {
    "name": "ipython",
    "version": 3
   },
   "file_extension": ".py",
   "mimetype": "text/x-python",
   "name": "python",
   "nbconvert_exporter": "python",
   "pygments_lexer": "ipython3",
   "version": "3.9.7"
  }
 },
 "nbformat": 4,
 "nbformat_minor": 5
}
