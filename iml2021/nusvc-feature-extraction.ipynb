{
 "cells": [
  {
   "cell_type": "code",
   "execution_count": 1,
   "id": "6fffb37f-bb07-452a-9b77-55839eef953f",
   "metadata": {},
   "outputs": [],
   "source": [
    "#! /usr/bin/env python\n",
    "# -*- coding: utf-8 -*-\n",
    "# Authors: Maxime Goffart and Olivier Joris\n",
    "\n",
    "import os\n",
    "import random\n",
    "import numpy as np\n",
    "import matplotlib.pyplot as plt\n",
    "\n",
    "from sklearn.impute import KNNImputer\n",
    "from sklearn.svm import NuSVC\n",
    "from sklearn.metrics import accuracy_score\n",
    "from scipy import stats\n",
    "from scipy.signal import find_peaks"
   ]
  },
  {
   "cell_type": "code",
   "execution_count": 2,
   "id": "57886d42-99ab-47dc-8c90-3962488e9ab5",
   "metadata": {},
   "outputs": [],
   "source": [
    "def load_data(data_path):\n",
    "    \"\"\"\n",
    "    Load the data for the classifer.\n",
    "    Method given with the assignment. Authors: Antonio Sutera & Yann Claess.\n",
    "\n",
    "    Argument:\n",
    "    ---------\n",
    "    - `data_path`: Path to the data folder.\n",
    "    \"\"\"\n",
    "\n",
    "    FEATURES = range(2, 33)\n",
    "    N_TIME_SERIES = 3500\n",
    "\n",
    "    # Create the training and testing samples\n",
    "    LS_path = os.path.join(data_path, 'LS')\n",
    "    TS_path = os.path.join(data_path, 'TS')\n",
    "    X_train, X_test = [np.zeros((N_TIME_SERIES, (len(FEATURES) * 512))) for i in range(2)]\n",
    "\n",
    "    for f in FEATURES:\n",
    "        print(\"Loading feature {}...\".format(f))\n",
    "        data = np.loadtxt(os.path.join(LS_path, 'LS_sensor_{}.txt'.format(f)))\n",
    "        X_train[:, (f-2)*512:(f-2+1)*512] = data\n",
    "        data = np.loadtxt(os.path.join(TS_path, 'TS_sensor_{}.txt'.format(f)))\n",
    "        X_test[:, (f-2)*512:(f-2+1)*512] = data\n",
    "    \n",
    "    y_train = np.loadtxt(os.path.join(LS_path, 'activity_Id.txt'))\n",
    "\n",
    "    print('X_train size: {}.'.format(X_train.shape))\n",
    "    print('y_train size: {}.'.format(y_train.shape))\n",
    "    print('X_test size: {}.'.format(X_test.shape))\n",
    "\n",
    "    return X_train, y_train, X_test\n",
    "\n",
    "\n",
    "def write_submission(y, where, submission_name='toy_submission.csv'):\n",
    "    \"\"\"\n",
    "    Method given with the assignment. Authors: Antonio Sutera & Yann Claess.\n",
    "\n",
    "    Arguments:\n",
    "    ----------\n",
    "    - `y`: Predictions to write.\n",
    "    - `where`: Path to the file in which to write.\n",
    "    - `submission_name`: Name of the file.\n",
    "    \"\"\"\n",
    "\n",
    "    os.makedirs(where, exist_ok=True)\n",
    "\n",
    "    SUBMISSION_PATH = os.path.join(where, submission_name)\n",
    "    if os.path.exists(SUBMISSION_PATH):\n",
    "        os.remove(SUBMISSION_PATH)\n",
    "\n",
    "    y = y.astype(int)\n",
    "    outputs = np.unique(y)\n",
    "\n",
    "    # Verify conditions on the predictions\n",
    "    if np.max(outputs) > 14:\n",
    "        raise ValueError('Class {} does not exist.'.format(np.max(outputs)))\n",
    "    if np.min(outputs) < 1:\n",
    "        raise ValueError('Class {} does not exist.'.format(np.min(outputs)))\n",
    "    \n",
    "    # Write submission file\n",
    "    with open(SUBMISSION_PATH, 'a') as file:\n",
    "        n_samples = len(y)\n",
    "        if n_samples != 3500:\n",
    "            raise ValueError('Check the number of predicted values.')\n",
    "\n",
    "        file.write('Id,Prediction\\n')\n",
    "\n",
    "        for n, i in enumerate(y):\n",
    "            file.write('{},{}\\n'.format(n+1, int(i)))\n",
    "\n",
    "    print('Submission {} saved in {}.'.format(submission_name, SUBMISSION_PATH))"
   ]
  },
  {
   "cell_type": "code",
   "execution_count": 3,
   "id": "3804d160-ade9-44f6-8e82-28ee345544f6",
   "metadata": {},
   "outputs": [],
   "source": [
    "def feature_extraction(X_train, X_test, data_path):\n",
    "    \"\"\"\n",
    "    Feature extraction.\n",
    "\n",
    "    Arguments:\n",
    "    ----------\n",
    "    - `X_train`: Inputs of LS.\n",
    "    - `X_test`: Inputs of TS.\n",
    "    - `data_path`: Path to the data folder.\n",
    "    \n",
    "    Return:\n",
    "    -------\n",
    "    Inputs of LS and TS after feature extraction.\n",
    "    \"\"\"\n",
    "\n",
    "    FEATURES = range(2, 33)\n",
    "    N_TIME_SERIES = 3500\n",
    "    N_ATTRIBUTES = 16\n",
    "\n",
    "    LS_path = os.path.join(data_path, 'LS')\n",
    "    TS_path = os.path.join(data_path, 'TS')\n",
    "\n",
    "    new_X_train = np.zeros((N_TIME_SERIES, len(FEATURES) * N_ATTRIBUTES))\n",
    "    new_X_test = np.zeros((N_TIME_SERIES, len(FEATURES) * N_ATTRIBUTES))\n",
    "\n",
    "    LS_subject_id = np.loadtxt(os.path.join(LS_path, 'subject_Id.txt'))\n",
    "    TS_subject_id = np.loadtxt(os.path.join(TS_path, 'subject_Id.txt'))\n",
    "\n",
    "    # subject id\n",
    "    new_X_train[:, 0] = LS_subject_id\n",
    "    new_X_test[:, 0] = TS_subject_id\n",
    "\n",
    "    for i in range(N_TIME_SERIES):\n",
    "        if not i%250:\n",
    "            print(\"Working on time serie {}...\".format(i))\n",
    "        for f in FEATURES:\n",
    "            index = 1\n",
    "            # mean\n",
    "            new_X_train[i][(f-2)*N_ATTRIBUTES+index] = np.mean(X_train[i][(f-2)*512:(f-2+1)*512])\n",
    "            new_X_test[i][(f-2)*N_ATTRIBUTES+index] = np.mean(X_test[i][(f-2)*512:(f-2+1)*512])\n",
    "\n",
    "            index += 1\n",
    "            # stddev\n",
    "            new_X_train[i][(f-2)*N_ATTRIBUTES+index] = np.std(X_train[i][(f-2)*512:(f-2+1)*512])\n",
    "            new_X_test[i][(f-2)*N_ATTRIBUTES+index] = np.std(X_test[i][(f-2)*512:(f-2+1)*512])\n",
    "\n",
    "            index += 1\n",
    "            # median\n",
    "            new_X_train[i][(f-2)*N_ATTRIBUTES+index] = np.median(X_train[i][(f-2)*512:(f-2+1)*512])\n",
    "            new_X_test[i][(f-2)*N_ATTRIBUTES+index] = np.median(X_test[i][(f-2)*512:(f-2+1)*512])\n",
    "\n",
    "            index += 1\n",
    "            # min\n",
    "            new_X_train[i][(f-2)*N_ATTRIBUTES+index] = np.min(X_train[i][(f-2)*512:(f-2+1)*512])\n",
    "            new_X_test[i][(f-2)*N_ATTRIBUTES+index] = np.min(X_test[i][(f-2)*512:(f-2+1)*512])\n",
    "\n",
    "            index += 1\n",
    "            # max\n",
    "            new_X_train[i][(f-2)*N_ATTRIBUTES+index] = np.max(X_train[i][(f-2)*512:(f-2+1)*512])\n",
    "            new_X_test[i][(f-2)*N_ATTRIBUTES+index] = np.max(X_test[i][(f-2)*512:(f-2+1)*512])\n",
    "\n",
    "            index += 1\n",
    "            # median absolute deviation\n",
    "            new_X_train[i][(f-2)*N_ATTRIBUTES+index] = np.apply_along_axis(lambda x: np.median(np.absolute(x - np.median(x))), 0, X_train[i][(f-2)*512:(f-2+1)*512])\n",
    "            new_X_test[i][(f-2)*N_ATTRIBUTES+index] = np.apply_along_axis(lambda x: np.median(np.absolute(x - np.median(x))), 0, X_test[i][(f-2)*512:(f-2+1)*512])\n",
    "\n",
    "            index += 1\n",
    "            # range\n",
    "            new_X_train[i][(f-2)*N_ATTRIBUTES+index] = np.max(X_train[i][(f-2)*512:(f-2+1)*512]) - np.min(X_train[i][(f-2)*512:(f-2+1)*512])\n",
    "            new_X_test[i][(f-2)*N_ATTRIBUTES+index] = np.max(X_test[i][(f-2)*512:(f-2+1)*512]) - np.min(X_test[i][(f-2)*512:(f-2+1)*512])\n",
    "\n",
    "            index += 1\n",
    "            # interquartile range\n",
    "            new_X_train[i][(f-2)*N_ATTRIBUTES+index] = np.apply_along_axis(lambda x: np.percentile(x, 75) - np.percentile(x, 25), 0, X_train[i][(f-2)*512:(f-2+1)*512])\n",
    "            new_X_test[i][(f-2)*N_ATTRIBUTES+index] = np.apply_along_axis(lambda x: np.percentile(x, 75) - np.percentile(x, 25), 0, X_test[i][(f-2)*512:(f-2+1)*512])\n",
    "\n",
    "            index += 1\n",
    "            # positive values\n",
    "            new_X_train[i][(f-2)*N_ATTRIBUTES+index] = np.apply_along_axis(lambda x: np.sum(x > 0), 0, X_train[i][(f-2)*512:(f-2+1)*512])\n",
    "            new_X_test[i][(f-2)*N_ATTRIBUTES+index] = np.apply_along_axis(lambda x: np.sum(x > 0), 0, X_test[i][(f-2)*512:(f-2+1)*512])\n",
    "\n",
    "            index += 1\n",
    "            # negative values\n",
    "            new_X_train[i][(f-2)*N_ATTRIBUTES+index] = np.apply_along_axis(lambda x: np.sum(x < 0), 0, X_train[i][(f-2)*512:(f-2+1)*512])\n",
    "            new_X_test[i][(f-2)*N_ATTRIBUTES+index] = np.apply_along_axis(lambda x: np.sum(x < 0), 0, X_test[i][(f-2)*512:(f-2+1)*512])\n",
    "\n",
    "            index += 1\n",
    "            # values above mean\n",
    "            new_X_train[i][(f-2)*N_ATTRIBUTES+index] = np.apply_along_axis(lambda x: np.sum(x > np.mean(x)), 0, X_train[i][(f-2)*512:(f-2+1)*512])\n",
    "            new_X_test[i][(f-2)*N_ATTRIBUTES+index] = np.apply_along_axis(lambda x: np.sum(x > np.mean(x)), 0, X_test[i][(f-2)*512:(f-2+1)*512])\n",
    "\n",
    "            index += 1\n",
    "            # nb of peaks\n",
    "            new_X_train[i][(f-2)*N_ATTRIBUTES+index] = np.apply_along_axis(lambda x: len(find_peaks(x)[0]), 0, X_train[i][(f-2)*512:(f-2+1)*512])\n",
    "            new_X_test[i][(f-2)*N_ATTRIBUTES+index] = np.apply_along_axis(lambda x: len(find_peaks(x)[0]), 0, X_test[i][(f-2)*512:(f-2+1)*512])\n",
    "\n",
    "            index += 1\n",
    "            # skewness\n",
    "            new_X_train[i][(f-2)*N_ATTRIBUTES+index] = np.apply_along_axis(lambda x: stats.skew(x), 0, X_train[i][(f-2)*512:(f-2+1)*512])\n",
    "            new_X_test[i][(f-2)*N_ATTRIBUTES+index] = np.apply_along_axis(lambda x: stats.skew(x), 0, X_test[i][(f-2)*512:(f-2+1)*512])\n",
    "\n",
    "            index += 1\n",
    "            # kurtosis\n",
    "            new_X_train[i][(f-2)*N_ATTRIBUTES+index] = np.apply_along_axis(lambda x: stats.kurtosis(x), 0, X_train[i][(f-2)*512:(f-2+1)*512])\n",
    "            new_X_test[i][(f-2)*N_ATTRIBUTES+index] = np.apply_along_axis(lambda x: stats.kurtosis(x), 0, X_test[i][(f-2)*512:(f-2+1)*512])\n",
    "\n",
    "            index += 1\n",
    "            # mean absolute deviation\n",
    "            new_X_train[i][(f-2)*N_ATTRIBUTES+index] = np.apply_along_axis(lambda x: np.mean(np.absolute(x - np.mean(x))), 0, X_train[i][(f-2)*512:(f-2+1)*512])\n",
    "            new_X_test[i][(f-2)*N_ATTRIBUTES+index] = np.apply_along_axis(lambda x: np.mean(np.absolute(x - np.mean(x))), 0, X_test[i][(f-2)*512:(f-2+1)*512])\n",
    "\n",
    "    return new_X_train, new_X_test"
   ]
  },
  {
   "cell_type": "code",
   "execution_count": 4,
   "id": "95f0f232-ac0b-4935-8ab1-772c484392f4",
   "metadata": {},
   "outputs": [],
   "source": [
    "def evaluate_nu_svc(X_train, y_train, X_test, nu: float, gamma='scale', nb_iter=10, verbose=True):\n",
    "    \"\"\"\n",
    "    Evaluate the performances of SVM (sklearn.svm.NuSVC) by splitting the LS.\n",
    "    \n",
    "    Arguments:\n",
    "    ----------\n",
    "    - `X_train`: Input of LS.\n",
    "    - `y_train`: Output of LS.\n",
    "    - `X_test`: Input of TS.\n",
    "    - `nu`: Value for nu parameter.\n",
    "    - `gamma`: Gamma parameter for SVC.\n",
    "    - `nb_iter`: Number of iterations to get average performance.\n",
    "    - `verbose`: Whether or not to display info about on going computations.\n",
    "    \n",
    "    Return:\n",
    "    -------\n",
    "    Array of mean scores of size nb_iter.\n",
    "    \"\"\"\n",
    "\n",
    "    LS_path = os.path.join('data', 'LS')   \n",
    "    LS_subject_id = np.loadtxt(os.path.join(LS_path, 'subject_Id.txt'))\n",
    "\n",
    "    iter_nb = nb_iter\n",
    "\n",
    "    ids = [1, 2, 3, 4, 5]\n",
    "    learning_id = [0, 0, 0]   \n",
    "    scores = np.zeros(iter_nb)\n",
    "\n",
    "    random.seed()\n",
    "\n",
    "    for j in range(iter_nb):\n",
    "        if verbose:\n",
    "            print(\"Working on iteration {}...\".format(j))\n",
    "        random.shuffle(ids)\n",
    "\n",
    "        for i in range(3):\n",
    "            learning_id[i] = ids[i]\n",
    "\n",
    "        unique_ls, count_ls = np.unique(LS_subject_id, return_counts = True)\n",
    "\n",
    "        count = np.asarray((unique_ls, count_ls))\n",
    "\n",
    "        training_size = int(count[1][learning_id[0] - 1] + count[1][learning_id[1] - 1] + count[1][learning_id[2] - 1])\n",
    "\n",
    "        X_train_split = np.zeros((training_size, X_train.shape[1]))\n",
    "        X_test_split = np.zeros((3500 - training_size, X_test.shape[1]))\n",
    "\n",
    "        y_train_split = np.zeros((training_size))\n",
    "        y_test_split = np.zeros((3500 - training_size))\n",
    "\n",
    "        training_current_size, testing_current_size = 0, 0\n",
    "\n",
    "        for i in range(3500):\n",
    "            if LS_subject_id[i] in learning_id:\n",
    "                X_train_split[training_current_size] = X_train[i]\n",
    "                y_train_split[training_current_size] = y_train[i]\n",
    "                training_current_size += 1\n",
    "            else:\n",
    "                X_test_split[testing_current_size] = X_train[i]\n",
    "                y_test_split[testing_current_size] = y_train[i]\n",
    "                testing_current_size += 1\n",
    "\n",
    "        clf = NuSVC(nu=nu, gamma=gamma, random_state=0, probability=True).fit(X_train_split, y_train_split)\n",
    "        y_pred = clf.predict(X_test_split)\n",
    "        scores[j] = accuracy_score(y_test_split, y_pred)\n",
    "\n",
    "    return scores"
   ]
  },
  {
   "cell_type": "code",
   "execution_count": 5,
   "id": "c4972da7-00f2-4c12-a23c-10f5123562f8",
   "metadata": {},
   "outputs": [
    {
     "name": "stdout",
     "output_type": "stream",
     "text": [
      "Loading feature 2...\n",
      "Loading feature 3...\n",
      "Loading feature 4...\n",
      "Loading feature 5...\n",
      "Loading feature 6...\n",
      "Loading feature 7...\n",
      "Loading feature 8...\n",
      "Loading feature 9...\n",
      "Loading feature 10...\n",
      "Loading feature 11...\n",
      "Loading feature 12...\n",
      "Loading feature 13...\n",
      "Loading feature 14...\n",
      "Loading feature 15...\n",
      "Loading feature 16...\n",
      "Loading feature 17...\n",
      "Loading feature 18...\n",
      "Loading feature 19...\n",
      "Loading feature 20...\n",
      "Loading feature 21...\n",
      "Loading feature 22...\n",
      "Loading feature 23...\n",
      "Loading feature 24...\n",
      "Loading feature 25...\n",
      "Loading feature 26...\n",
      "Loading feature 27...\n",
      "Loading feature 28...\n",
      "Loading feature 29...\n",
      "Loading feature 30...\n",
      "Loading feature 31...\n",
      "Loading feature 32...\n",
      "X_train size: (3500, 15872).\n",
      "y_train size: (3500,).\n",
      "X_test size: (3500, 15872).\n"
     ]
    }
   ],
   "source": [
    "# Load original data\n",
    "init_X_train, y_train, init_X_test = load_data('data')"
   ]
  },
  {
   "cell_type": "code",
   "execution_count": 6,
   "id": "190d80e9-ce7e-46c7-8df5-542f95cec4f8",
   "metadata": {},
   "outputs": [],
   "source": [
    "# Replace missing values\n",
    "imputer = KNNImputer(n_neighbors = 5, weights = 'distance', missing_values = -999999.99)\n",
    "init_X_train = imputer.fit_transform(init_X_train)"
   ]
  },
  {
   "cell_type": "code",
   "execution_count": 7,
   "id": "e73334bc-436e-4725-b644-85efd5869fb4",
   "metadata": {},
   "outputs": [
    {
     "name": "stdout",
     "output_type": "stream",
     "text": [
      "Working on time serie 0...\n",
      "Working on time serie 250...\n",
      "Working on time serie 500...\n",
      "Working on time serie 750...\n",
      "Working on time serie 1000...\n",
      "Working on time serie 1250...\n",
      "Working on time serie 1500...\n",
      "Working on time serie 1750...\n",
      "Working on time serie 2000...\n",
      "Working on time serie 2250...\n",
      "Working on time serie 2500...\n",
      "Working on time serie 2750...\n",
      "Working on time serie 3000...\n",
      "Working on time serie 3250...\n"
     ]
    }
   ],
   "source": [
    "# Feature extraction\n",
    "X_train, X_test = feature_extraction(init_X_train, init_X_test, 'data')"
   ]
  },
  {
   "cell_type": "code",
   "execution_count": 8,
   "id": "487d06da-ca65-4942-80a8-e7e781b5446e",
   "metadata": {},
   "outputs": [
    {
     "name": "stdout",
     "output_type": "stream",
     "text": [
      "(3500, 496)\n",
      "(3500, 496)\n"
     ]
    }
   ],
   "source": [
    "print(X_train.shape)\n",
    "print(X_test.shape)"
   ]
  },
  {
   "cell_type": "markdown",
   "id": "fef68b59-8c5e-4293-a3bf-3f6004ebb083",
   "metadata": {},
   "source": [
    "Study the performances of SVM (sklearn.svm.NuSVC)"
   ]
  },
  {
   "cell_type": "markdown",
   "id": "9449046a-2f57-4e2f-82fb-6cca5b5f6c58",
   "metadata": {},
   "source": [
    "First study of performances for values of Nu in [0.1, 1.0] with step of 0.1"
   ]
  },
  {
   "cell_type": "code",
   "execution_count": 15,
   "id": "2bcb9738-efb2-49f7-b295-b10d26ca9eb6",
   "metadata": {},
   "outputs": [
    {
     "name": "stdout",
     "output_type": "stream",
     "text": [
      "Working on nu param 0.1...\n",
      "Working on nu param 0.2...\n",
      "Working on nu param 0.30000000000000004...\n",
      "Working on nu param 0.4...\n",
      "Working on nu param 0.5...\n",
      "Working on nu param 0.6...\n"
     ]
    },
    {
     "data": {
      "image/png": "[encoded data removed]",
      "text/plain": [
       "<Figure size 432x288 with 1 Axes>"
      ]
     },
     "metadata": {
      "needs_background": "light"
     },
     "output_type": "display_data"
    },
    {
     "name": "stdout",
     "output_type": "stream",
     "text": [
      "Max accuracy = 0.5723277462764307 for nu = 0.5\n"
     ]
    }
   ],
   "source": [
    "nus = []\n",
    "scoreMeans = []\n",
    "nu = 0.1\n",
    "while nu <= 0.6:\n",
    "    nus.append(nu)\n",
    "    nu+=0.1\n",
    "for nu in nus:\n",
    "    print(\"Working on nu param {}...\".format(nu))\n",
    "    scores = evaluate_nu_svc(X_train, y_train, X_test, nu, nb_iter=20, verbose=False)\n",
    "    scoreMeans.append(scores.mean())\n",
    "plt.plot(nus, scoreMeans)\n",
    "plt.xlabel(\"Value of nu parameter\")\n",
    "plt.ylabel(\"Accuracy\")\n",
    "plt.title(\"Mean accuracies of NuSVC\")\n",
    "plt.savefig('svm_nu_svc_accuracies_1.png')\n",
    "plt.show()\n",
    "print(\"Max accuracy = {} for nu = {}\".format(max(scoreMeans), nus[scoreMeans.index(max(scoreMeans))]))"
   ]
  },
  {
   "cell_type": "markdown",
   "id": "155a3f8a-7698-45b1-b2f8-208068dea2f9",
   "metadata": {},
   "source": [
    "Using a NuSVC with a nu of 0.5 gives a high accuracy as we can see on the previous graph.\n",
    "Thus, we will use a NuSVC (sklearn.svm.NuSVC) with a nu of 0.5"
   ]
  },
  {
   "cell_type": "markdown",
   "id": "40314ca0-1635-4a7e-908b-b7df2248991b",
   "metadata": {},
   "source": [
    "Plotting the accuracies over 40 iterations of splitting the LS"
   ]
  },
  {
   "cell_type": "code",
   "execution_count": 18,
   "id": "9db229d4-88b3-49d3-a18e-e3503a0462f8",
   "metadata": {},
   "outputs": [
    {
     "name": "stdout",
     "output_type": "stream",
     "text": [
      "Working on iteration 0...\n",
      "Working on iteration 1...\n",
      "Working on iteration 2...\n",
      "Working on iteration 3...\n",
      "Working on iteration 4...\n",
      "Working on iteration 5...\n",
      "Working on iteration 6...\n",
      "Working on iteration 7...\n",
      "Working on iteration 8...\n",
      "Working on iteration 9...\n",
      "Working on iteration 10...\n",
      "Working on iteration 11...\n",
      "Working on iteration 12...\n",
      "Working on iteration 13...\n",
      "Working on iteration 14...\n",
      "Working on iteration 15...\n",
      "Working on iteration 16...\n",
      "Working on iteration 17...\n",
      "Working on iteration 18...\n",
      "Working on iteration 19...\n",
      "Working on iteration 20...\n",
      "Working on iteration 21...\n",
      "Working on iteration 22...\n",
      "Working on iteration 23...\n",
      "Working on iteration 24...\n",
      "Working on iteration 25...\n",
      "Working on iteration 26...\n",
      "Working on iteration 27...\n",
      "Working on iteration 28...\n",
      "Working on iteration 29...\n",
      "Working on iteration 30...\n",
      "Working on iteration 31...\n",
      "Working on iteration 32...\n",
      "Working on iteration 33...\n",
      "Working on iteration 34...\n",
      "Working on iteration 35...\n",
      "Working on iteration 36...\n",
      "Working on iteration 37...\n",
      "Working on iteration 38...\n",
      "Working on iteration 39...\n"
     ]
    }
   ],
   "source": [
    "scores = evaluate_nu_svc(X_train, y_train, X_test, 0.5, nb_iter=40, verbose=True)"
   ]
  },
  {
   "cell_type": "code",
   "execution_count": 19,
   "id": "28e7b9f3-9960-4893-98aa-67e22e26dd70",
   "metadata": {},
   "outputs": [
    {
     "data": {
      "image/png": "[encoded data removed]",
      "text/plain": [
       "<Figure size 432x288 with 1 Axes>"
      ]
     },
     "metadata": {
      "needs_background": "light"
     },
     "output_type": "display_data"
    },
    {
     "name": "stdout",
     "output_type": "stream",
     "text": [
      "0.5409301602831128\n"
     ]
    }
   ],
   "source": [
    "nbIter = []\n",
    "for i in range(40):\n",
    "    nbIter.append(i)\n",
    "\n",
    "means = []\n",
    "mean = scores.mean()\n",
    "for _ in nbIter:\n",
    "    means.append(mean)\n",
    "\n",
    "plt.plot(nbIter, scores)\n",
    "plt.plot(nbIter, means)\n",
    "plt.xlabel(\"Iteration\")\n",
    "plt.ylabel(\"Accuracy\")\n",
    "plt.title(\"Accuracy of NuSVC\")\n",
    "plt.savefig('svm_nu_svc_accuracies_2.png')\n",
    "plt.show()\n",
    "print(scores.mean())"
   ]
  }
 ],
 "metadata": {
  "kernelspec": {
   "display_name": "Python 3 (ipykernel)",
   "language": "python",
   "name": "python3"
  },
  "language_info": {
   "codemirror_mode": {
    "name": "ipython",
    "version": 3
   },
   "file_extension": ".py",
   "mimetype": "text/x-python",
   "name": "python",
   "nbconvert_exporter": "python",
   "pygments_lexer": "ipython3",
   "version": "3.9.7"
  }
 },
 "nbformat": 4,
 "nbformat_minor": 5
}
