{
 "cells": [
  {
   "cell_type": "code",
   "execution_count": 1,
   "id": "fafa3591-7401-4cd9-b83d-ae1d0020266b",
   "metadata": {},
   "outputs": [],
   "source": [
    "# Authors: Maxime Goffart and Olivier Joris\n",
    "\n",
    "import os\n",
    "import numpy as np\n",
    "import matplotlib.pyplot as plt\n",
    "\n",
    "from sklearn.neighbors import KNeighborsClassifier\n",
    "from sklearn.model_selection import cross_val_score\n",
    "from sklearn.model_selection import train_test_split"
   ]
  },
  {
   "cell_type": "code",
   "execution_count": 2,
   "id": "ec225122-f924-49f4-89e0-7c495a83a5fb",
   "metadata": {
    "tags": []
   },
   "outputs": [],
   "source": [
    "def load_data(data_path):\n",
    "    \"\"\"\n",
    "    Load the data for the classifer.\n",
    "    Method given with the assignment. Authors: Antonio Sutera & Yann Claess.\n",
    "\n",
    "    Argument:\n",
    "    ---------\n",
    "    - `data_path`: Path to the data folder.\n",
    "    \"\"\"\n",
    "\n",
    "    FEATURES = range(2, 33)\n",
    "    N_TIME_SERIES = 3500\n",
    "\n",
    "    # Create the training and testing samples\n",
    "    LS_path = os.path.join(data_path, 'LS')\n",
    "    TS_path = os.path.join(data_path, 'TS')\n",
    "    X_train, X_test = [np.zeros((N_TIME_SERIES, (len(FEATURES) * 512))) for i in range(2)]\n",
    "\n",
    "    for f in FEATURES:\n",
    "        data = np.loadtxt(os.path.join(LS_path, 'LS_sensor_{}.txt'.format(f)))\n",
    "        X_train[:, (f-2)*512:(f-2+1)*512] = data\n",
    "        data = np.loadtxt(os.path.join(TS_path, 'TS_sensor_{}.txt'.format(f)))\n",
    "        X_test[:, (f-2)*512:(f-2+1)*512] = data\n",
    "    \n",
    "    y_train = np.loadtxt(os.path.join(LS_path, 'activity_Id.txt'))\n",
    "\n",
    "    print('X_train size: {}.'.format(X_train.shape))\n",
    "    print('y_train size: {}.'.format(y_train.shape))\n",
    "    print('X_test size: {}.'.format(X_test.shape))\n",
    "\n",
    "    return X_train, y_train, X_test"
   ]
  },
  {
   "cell_type": "code",
   "execution_count": 3,
   "id": "06ad6801-8b68-4ea2-b79b-4aa119b4ef8e",
   "metadata": {
    "tags": []
   },
   "outputs": [],
   "source": [
    "def write_submission(y, where, submission_name='toy_submission.csv'):\n",
    "    \"\"\"\n",
    "    Method given with the assignment. Authors: Antonio Sutera & Yann Claess.\n",
    "\n",
    "    Arguments:\n",
    "    ----------\n",
    "    - `y`: Predictions to write.\n",
    "    - `where`: Path to the file in which to write.\n",
    "    - `submission_name`: Name of the file.\n",
    "    \"\"\"\n",
    "\n",
    "    os.makedirs(where, exist_ok=True)\n",
    "\n",
    "    SUBMISSION_PATH = os.path.join(where, submission_name)\n",
    "    if os.path.exists(SUBMISSION_PATH):\n",
    "        os.remove(SUBMISSION_PATH)\n",
    "\n",
    "    y = y.astype(int)\n",
    "    outputs = np.unique(y)\n",
    "\n",
    "    # Verify conditions on the predictions\n",
    "    if np.max(outputs) > 14:\n",
    "        raise ValueError('Class {} does not exist.'.format(np.max(outputs)))\n",
    "    if np.min(outputs) < 1:\n",
    "        raise ValueError('Class {} does not exist.'.format(np.min(outputs)))\n",
    "    \n",
    "    # Write submission file\n",
    "    with open(SUBMISSION_PATH, 'a') as file:\n",
    "        n_samples = len(y)\n",
    "        if n_samples != 3500:\n",
    "            raise ValueError('Check the number of predicted values.')\n",
    "\n",
    "        file.write('Id,Prediction\\n')\n",
    "\n",
    "        for n, i in enumerate(y):\n",
    "            file.write('{},{}\\n'.format(n+1, int(i)))\n",
    "\n",
    "    print('Submission {} saved in {}.'.format(submission_name, SUBMISSION_PATH))"
   ]
  },
  {
   "cell_type": "code",
   "execution_count": 4,
   "id": "a9e93db6-007a-4976-ae4a-886225a22e8b",
   "metadata": {
    "tags": []
   },
   "outputs": [
    {
     "name": "stdout",
     "output_type": "stream",
     "text": [
      "X_train size: (3500, 15872).\n",
      "y_train size: (3500,).\n",
      "X_test size: (3500, 15872).\n"
     ]
    }
   ],
   "source": [
    "# Directory containing the data folders\n",
    "DATA_PATH = 'data'\n",
    "X_train, y_train, X_test = load_data(DATA_PATH)"
   ]
  },
  {
   "cell_type": "code",
   "execution_count": null,
   "id": "3c4d0bfa-8973-4549-8be8-f6b2a5f662a1",
   "metadata": {
    "tags": []
   },
   "outputs": [],
   "source": [
    "X_train"
   ]
  },
  {
   "cell_type": "code",
   "execution_count": null,
   "id": "11cadf42-ec62-4b37-aad4-aad514bb4c1e",
   "metadata": {},
   "outputs": [],
   "source": [
    "y_train"
   ]
  },
  {
   "cell_type": "markdown",
   "id": "057ce961-3e93-4c1c-a2c0-2f0376788a2e",
   "metadata": {},
   "source": [
    "KNN with K=1"
   ]
  },
  {
   "cell_type": "code",
   "execution_count": null,
   "id": "e8fff28a-e521-4afc-9293-0901efbcd77b",
   "metadata": {},
   "outputs": [],
   "source": [
    "clfKNN1 = KNeighborsClassifier(n_neighbors=1)\n",
    "scoresKNN1 = cross_val_score(clfKNN1, X_train, y_train, cv=10, scoring='accuracy')\n",
    "print(\"Mean accuracy of 1-NN with 10-fold CV: {}\".format(scoresKNN1.mean()))"
   ]
  },
  {
   "cell_type": "markdown",
   "id": "cd2c871d-2f88-46bf-9eb7-96240dac015a",
   "metadata": {},
   "source": [
    "KNN with K=25"
   ]
  },
  {
   "cell_type": "code",
   "execution_count": null,
   "id": "f9a63726-e710-4c84-bca7-e4ef284582fd",
   "metadata": {},
   "outputs": [],
   "source": [
    "clfKNN2 = KNeighborsClassifier(n_neighbors=25)\n",
    "scoresKNN2 = cross_val_score(clfKNN2, X_train, y_train, cv=10, scoring='accuracy')\n",
    "print(\"Mean accuracy of 25-NN with 10-fold CV: {}\".format(scoresKNN2.mean()))"
   ]
  },
  {
   "cell_type": "markdown",
   "id": "fe934566-fc2e-465c-b328-8187f32ba106",
   "metadata": {},
   "source": [
    "Plotting mean accuracies of KNN based on value of K (10-CV)"
   ]
  },
  {
   "cell_type": "code",
   "execution_count": null,
   "id": "19409277-a78f-4184-8722-1efedeba626d",
   "metadata": {},
   "outputs": [],
   "source": [
    "k_values = []\n",
    "mean_accuracies = []\n",
    "for i in range(1, 3102, 100):\n",
    "    clf = KNeighborsClassifier(n_neighbors=i)\n",
    "    k_values.append(i)\n",
    "    scores = cross_val_score(clf, X_train, y_train, cv=10, scoring='accuracy', n_jobs=-1)\n",
    "    mean_accuracies.append(scores.mean())\n",
    "plt.plot(k_values, mean_accuracies)\n",
    "plt.xlabel(\"Value of K\")\n",
    "plt.ylabel(\"10-CV accuracy\")\n",
    "plt.title(\"Mean accuracies of KNN\")\n",
    "plt.savefig('knn_basic_accuracies.png')\n",
    "plt.show()"
   ]
  },
  {
   "cell_type": "markdown",
   "id": "d65e2617-6ff1-4ce3-ac11-387471fa5cc2",
   "metadata": {},
   "source": [
    "Plotting mean accuracies of KNN based on value of K (2-CV)"
   ]
  },
  {
   "cell_type": "code",
   "execution_count": null,
   "id": "0d4cfe7e-3606-4b4f-b98c-faecbf08949f",
   "metadata": {},
   "outputs": [],
   "source": [
    "NB_FOLD = 2\n",
    "k_values = []\n",
    "mean_accuracies = []\n",
    "for i in range(1, 75, 5):\n",
    "    clf = KNeighborsClassifier(n_neighbors=i)\n",
    "    scores = cross_val_score(clf, X_train, y_train, cv=NB_FOLD, scoring='accuracy', n_jobs=-1)\n",
    "    mean_accuracies.append(scores.mean())\n",
    "    k_values.append(i)\n",
    "plt.plot(k_values, mean_accuracies)\n",
    "plt.xlabel(\"Value of K\")\n",
    "plt.ylabel(\"2-CV accuracy\")\n",
    "plt.title(\"Mean accuracies of KNN\")\n",
    "plt.savefig('knn_basic_accuracies_2cv.png')\n",
    "plt.show()"
   ]
  },
  {
   "cell_type": "markdown",
   "id": "3a88360d-7320-482e-9ebc-453604d4e5f0",
   "metadata": {},
   "source": [
    "Plotting mean accuracies of KNN based on value of K (10-CV) using negative log loss"
   ]
  },
  {
   "cell_type": "code",
   "execution_count": null,
   "id": "c91275c6-04ac-4b8b-a659-7657cfb7ec82",
   "metadata": {},
   "outputs": [],
   "source": [
    "k_values = []\n",
    "mean_accuracies = []\n",
    "for i in range(1, 3102, 100):\n",
    "    clf = KNeighborsClassifier(n_neighbors=i)\n",
    "    k_values.append(i)\n",
    "    scores = cross_val_score(clf, X_train, y_train, cv=10, scoring='neg_log_loss', n_jobs=-1)\n",
    "    mean_accuracies.append(scores.mean())\n",
    "plt.plot(k_values, mean_accuracies)\n",
    "plt.xlabel(\"Value of K\")\n",
    "plt.ylabel(\"10-CV accuracy\")\n",
    "plt.title(\"Mean accuracies of KNN\")\n",
    "plt.savefig('knn_basic_accuracies_log_loss.png')\n",
    "plt.show()"
   ]
  },
  {
   "cell_type": "code",
   "execution_count": 5,
   "id": "2f1c3590-b674-46d2-9c16-3af4646a34cb",
   "metadata": {},
   "outputs": [
    {
     "name": "stdout",
     "output_type": "stream",
     "text": [
      "Optimal value of n_neighbor = 49\n"
     ]
    },
    {
     "data": {
      "image/png": "[encoded data removed]",
      "text/plain": [
       "<Figure size 432x288 with 1 Axes>"
      ]
     },
     "metadata": {
      "needs_background": "light"
     },
     "output_type": "display_data"
    }
   ],
   "source": [
    "k_values = []\n",
    "mean_accuracies = []\n",
    "for i in range (45, 56, 1):\n",
    "    clf = KNeighborsClassifier(n_neighbors=i)\n",
    "    scores = cross_val_score(clf, X_train, y_train, cv=10, scoring='neg_log_loss', n_jobs=-1)\n",
    "    mean_accuracies.append(scores.mean())\n",
    "    k_values.append(i)\n",
    "minLoss = max(mean_accuracies)\n",
    "print(\"Optimal value of n_neighbor = {}\".format(k_values[mean_accuracies.index(minLoss)]))\n",
    "plt.plot(k_values, mean_accuracies)\n",
    "plt.xlabel(\"Value of K\")\n",
    "plt.ylabel(\"10-CV accuracy\")\n",
    "plt.title(\"Mean accuracies of KNN\")\n",
    "plt.savefig('knn_basic_accuracies_log_loss_precise.png')\n",
    "plt.show()"
   ]
  },
  {
   "cell_type": "code",
   "execution_count": null,
   "id": "16f95408-d24d-400a-b35c-6cd9aca51791",
   "metadata": {},
   "outputs": [],
   "source": [
    "X_train_split, X_test_split, y_train_split, y_test_split = train_test_split(X_train, y_train, test_size=0.7, random_state=0)"
   ]
  },
  {
   "cell_type": "code",
   "execution_count": null,
   "id": "753b7ffb-bc0b-4c66-aba4-9135921bcded",
   "metadata": {},
   "outputs": [],
   "source": [
    "k_values = []\n",
    "accuracies = []\n",
    "for i in range(1, 75, 1):\n",
    "    clf = KNeighborsClassifier(n_neighbors=i).fit(X_train_split, y_train_split)\n",
    "    score = clf.score(X_test_split, y_test_split)\n",
    "    accuracies.append(score)\n",
    "    k_values.append(i)\n",
    "plt.plot(k_values, accuracies)\n",
    "plt.xlabel(\"Value of K\")\n",
    "plt.title(\"Accuracies of KNN\")\n",
    "plt.savefig('knn_basic_70percent_test.png')\n",
    "plt.show()"
   ]
  },
  {
   "cell_type": "code",
   "execution_count": null,
   "id": "37b4d177-9a2f-4f20-bd55-8ac43d1a5a33",
   "metadata": {},
   "outputs": [],
   "source": [
    "X_train_split, X_test_split, y_train_split, y_test_split = train_test_split(X_train, y_train, test_size=0.9, random_state=0)\n",
    "k_values = []\n",
    "accuracies = []\n",
    "for i in range(1, 75, 1):\n",
    "    clf = KNeighborsClassifier(n_neighbors=i).fit(X_train_split, y_train_split)\n",
    "    score = clf.score(X_test_split, y_test_split)\n",
    "    accuracies.append(score)\n",
    "    k_values.append(i)\n",
    "plt.plot(k_values, accuracies)\n",
    "plt.xlabel(\"Value of K\")\n",
    "plt.title(\"Accuracies of KNN\")\n",
    "plt.savefig('knn_basic_90percent_test.png')\n",
    "plt.show()"
   ]
  },
  {
   "cell_type": "code",
   "execution_count": null,
   "id": "b92262c4-d285-4d03-b18e-12bfd4ee2d10",
   "metadata": {},
   "outputs": [],
   "source": []
  }
 ],
 "metadata": {
  "kernelspec": {
   "display_name": "Python 3",
   "language": "python",
   "name": "python3"
  },
  "language_info": {
   "codemirror_mode": {
    "name": "ipython",
    "version": 3
   },
   "file_extension": ".py",
   "mimetype": "text/x-python",
   "name": "python",
   "nbconvert_exporter": "python",
   "pygments_lexer": "ipython3",
   "version": "3.9.6"
  }
 },
 "nbformat": 4,
 "nbformat_minor": 5
}
