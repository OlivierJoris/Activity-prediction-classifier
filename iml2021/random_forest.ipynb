{
 "cells": [
  {
   "cell_type": "code",
   "execution_count": 1,
   "id": "3d594abb-8857-42ee-a133-4749b791c48b",
   "metadata": {},
   "outputs": [],
   "source": [
    "import os\n",
    "import numpy as np\n",
    "import matplotlib.pyplot as plt\n",
    "\n",
    "from sklearn.ensemble import RandomForestClassifier\n",
    "from sklearn.model_selection import cross_val_score\n",
    "from sklearn.model_selection import train_test_split"
   ]
  },
  {
   "cell_type": "code",
   "execution_count": 2,
   "id": "78296783-bf22-4470-a5a8-a1beeac7d428",
   "metadata": {},
   "outputs": [],
   "source": [
    "def load_data(data_path):\n",
    "    \"\"\"\n",
    "    Method given with the assignment\n",
    "    \"\"\"\n",
    "    FEATURES = range(2, 33)\n",
    "    N_TIME_SERIES = 3500\n",
    "\n",
    "    # Create the training and testing samples\n",
    "    LS_path = os.path.join(data_path, 'LS')\n",
    "    TS_path = os.path.join(data_path, 'TS')\n",
    "    X_train, X_test = [np.zeros((N_TIME_SERIES, (len(FEATURES) * 512))) for i in range(2)]\n",
    "\n",
    "    for f in FEATURES:\n",
    "        print(\"Loading feature {}...\".format(f))\n",
    "        data = np.loadtxt(os.path.join(LS_path, 'LS_sensor_{}.txt'.format(f)))\n",
    "        X_train[:, (f-2)*512:(f-2+1)*512] = data\n",
    "        data = np.loadtxt(os.path.join(TS_path, 'TS_sensor_{}.txt'.format(f)))\n",
    "        X_test[:, (f-2)*512:(f-2+1)*512] = data\n",
    "    \n",
    "    y_train = np.loadtxt(os.path.join(LS_path, 'activity_Id.txt'))\n",
    "\n",
    "    print('X_train size: {}.'.format(X_train.shape))\n",
    "    print('y_train size: {}.'.format(y_train.shape))\n",
    "    print('X_test size: {}.'.format(X_test.shape))\n",
    "\n",
    "    return X_train, y_train, X_test"
   ]
  },
  {
   "cell_type": "code",
   "execution_count": 3,
   "id": "290713d0-5e62-4cc9-9dea-a026d38ef040",
   "metadata": {},
   "outputs": [],
   "source": [
    "def write_submission(y, where, submission_name='toy_submission.csv'):\n",
    "\n",
    "    os.makedirs(where, exist_ok=True)\n",
    "\n",
    "    SUBMISSION_PATH = os.path.join(where, submission_name)\n",
    "    if os.path.exists(SUBMISSION_PATH):\n",
    "        os.remove(SUBMISSION_PATH)\n",
    "\n",
    "    y = y.astype(int)\n",
    "    outputs = np.unique(y)\n",
    "\n",
    "    # Verify conditions on the predictions\n",
    "    if np.max(outputs) > 14:\n",
    "        raise ValueError('Class {} does not exist.'.format(np.max(outputs)))\n",
    "    if np.min(outputs) < 1:\n",
    "        raise ValueError('Class {} does not exist.'.format(np.min(outputs)))\n",
    "    \n",
    "    # Write submission file\n",
    "    with open(SUBMISSION_PATH, 'a') as file:\n",
    "        n_samples = len(y)\n",
    "        if n_samples != 3500:\n",
    "            raise ValueError('Check the number of predicted values.')\n",
    "\n",
    "        file.write('Id,Prediction\\n')\n",
    "\n",
    "        for n, i in enumerate(y):\n",
    "            file.write('{},{}\\n'.format(n+1, int(i)))\n",
    "\n",
    "    print('Submission {} saved in {}.'.format(submission_name, SUBMISSION_PATH))\n"
   ]
  },
  {
   "cell_type": "code",
   "execution_count": 4,
   "id": "d9a285bb-c08c-4208-8306-cbc9bc67aa58",
   "metadata": {},
   "outputs": [
    {
     "name": "stdout",
     "output_type": "stream",
     "text": [
      "Loading feature 2...\n",
      "Loading feature 3...\n",
      "Loading feature 4...\n",
      "Loading feature 5...\n",
      "Loading feature 6...\n",
      "Loading feature 7...\n",
      "Loading feature 8...\n",
      "Loading feature 9...\n",
      "Loading feature 10...\n",
      "Loading feature 11...\n",
      "Loading feature 12...\n",
      "Loading feature 13...\n",
      "Loading feature 14...\n",
      "Loading feature 15...\n",
      "Loading feature 16...\n",
      "Loading feature 17...\n",
      "Loading feature 18...\n",
      "Loading feature 19...\n",
      "Loading feature 20...\n",
      "Loading feature 21...\n",
      "Loading feature 22...\n",
      "Loading feature 23...\n",
      "Loading feature 24...\n",
      "Loading feature 25...\n",
      "Loading feature 26...\n",
      "Loading feature 27...\n",
      "Loading feature 28...\n",
      "Loading feature 29...\n",
      "Loading feature 30...\n",
      "Loading feature 31...\n",
      "Loading feature 32...\n",
      "X_train size: (3500, 15872).\n",
      "y_train size: (3500,).\n",
      "X_test size: (3500, 15872).\n"
     ]
    }
   ],
   "source": [
    "X_train, y_train, X_test = load_data('data')"
   ]
  },
  {
   "cell_type": "markdown",
   "id": "60055428-ea4b-4850-8383-829a3c7ddadc",
   "metadata": {},
   "source": [
    "First test with a random forest composed of 10 estimators and min_sample_split=200"
   ]
  },
  {
   "cell_type": "code",
   "execution_count": 5,
   "id": "4c7a9a17-c916-41a7-b950-0b81e484d8b3",
   "metadata": {},
   "outputs": [
    {
     "name": "stdout",
     "output_type": "stream",
     "text": [
      "[0.74571429 0.75428571 0.77428571 0.76571429 0.69428571 0.72857143\n",
      " 0.72571429 0.68857143 0.72285714 0.75428571]\n",
      "0.7354285714285714\n"
     ]
    }
   ],
   "source": [
    "forest = RandomForestClassifier(n_estimators=10, min_samples_split=200, n_jobs=-1, random_state=0)\n",
    "scores = cross_val_score(forest, X_train, y_train, cv=10, n_jobs=-1)\n",
    "print(scores)\n",
    "print(scores.mean())"
   ]
  },
  {
   "cell_type": "markdown",
   "id": "5322c366-dc36-4094-bbf8-98b20cef7fad",
   "metadata": {},
   "source": [
    "Second test with a random forest composed of 50 estimators and min_sample_split=200"
   ]
  },
  {
   "cell_type": "code",
   "execution_count": 6,
   "id": "775c78ff-9dbe-4d04-8bef-eb0f34db3293",
   "metadata": {},
   "outputs": [
    {
     "name": "stdout",
     "output_type": "stream",
     "text": [
      "[0.76285714 0.77714286 0.79428571 0.79142857 0.74857143 0.76857143\n",
      " 0.77714286 0.75142857 0.75714286 0.77428571]\n",
      "0.7702857142857142\n"
     ]
    }
   ],
   "source": [
    "forest = RandomForestClassifier(n_estimators=50, min_samples_split=200, n_jobs=-1, random_state=0)\n",
    "scores = cross_val_score(forest, X_train, y_train, cv=10, n_jobs=-1)\n",
    "print(scores)\n",
    "print(scores.mean())"
   ]
  },
  {
   "cell_type": "markdown",
   "id": "16017751-6623-4dcd-a93a-3c35157940c1",
   "metadata": {},
   "source": [
    "Third test with a random forest composed of 50 estimators and min_sample_split=100"
   ]
  },
  {
   "cell_type": "code",
   "execution_count": 7,
   "id": "3bb9c230-d765-4c1b-9855-d5bf325264eb",
   "metadata": {},
   "outputs": [
    {
     "name": "stdout",
     "output_type": "stream",
     "text": [
      "[0.85428571 0.87428571 0.87142857 0.88285714 0.86857143 0.83714286\n",
      " 0.86       0.85428571 0.85714286 0.84857143]\n",
      "0.8608571428571429\n"
     ]
    }
   ],
   "source": [
    "forest = RandomForestClassifier(n_estimators=50, min_samples_split=100, n_jobs=-1, random_state=0)\n",
    "scores = cross_val_score(forest, X_train, y_train, cv=10, n_jobs=-1)\n",
    "print(scores)\n",
    "print(scores.mean())"
   ]
  },
  {
   "cell_type": "markdown",
   "id": "7ae4c5d1-011b-4e2c-9475-dbcadee3dcd7",
   "metadata": {},
   "source": [
    "Fourth test with a random forest composed of 100 estimators and min_sample_split=50"
   ]
  },
  {
   "cell_type": "code",
   "execution_count": 8,
   "id": "dcfa5ba9-d007-4047-bd2d-0a65e52ca83f",
   "metadata": {},
   "outputs": [
    {
     "name": "stdout",
     "output_type": "stream",
     "text": [
      "[0.90571429 0.90571429 0.90857143 0.93142857 0.92       0.88285714\n",
      " 0.91142857 0.88857143 0.90285714 0.90571429]\n",
      "0.9062857142857143\n"
     ]
    }
   ],
   "source": [
    "forest = RandomForestClassifier(n_estimators=100, min_samples_split=50, n_jobs=-1, random_state=0)\n",
    "scores = cross_val_score(forest, X_train, y_train, cv=10, n_jobs=-1)\n",
    "print(scores)\n",
    "print(scores.mean())"
   ]
  },
  {
   "cell_type": "markdown",
   "id": "b8ff7d11-a20d-4850-ab1b-845304129bdb",
   "metadata": {},
   "source": [
    "Study the accuracy of the forest based on the number of trees (min_sample_split = 25)"
   ]
  },
  {
   "cell_type": "code",
   "execution_count": 10,
   "id": "c89a2bc6-0056-4529-b9c6-ba60c9bf14b4",
   "metadata": {},
   "outputs": [
    {
     "name": "stdout",
     "output_type": "stream",
     "text": [
      "Working on 1...\n",
      "Working on 10...\n",
      "Working on 20...\n",
      "Working on 30...\n",
      "Working on 40...\n",
      "Working on 50...\n",
      "Working on 60...\n",
      "Working on 70...\n",
      "Working on 80...\n",
      "Working on 90...\n",
      "Working on 100...\n",
      "Working on 110...\n",
      "Working on 120...\n",
      "Working on 130...\n",
      "Working on 140...\n",
      "Working on 150...\n",
      "Working on 160...\n",
      "Working on 170...\n",
      "Working on 180...\n",
      "Working on 190...\n",
      "Working on 200...\n"
     ]
    },
    {
     "data": {
      "image/png": "[encoded data removed]",
      "text/plain": [
       "<Figure size 432x288 with 1 Axes>"
      ]
     },
     "metadata": {
      "needs_background": "light"
     },
     "output_type": "display_data"
    }
   ],
   "source": [
    "forest_sizes = [1]\n",
    "accuracies = []\n",
    "for i in range(10, 201, 10):\n",
    "    forest_sizes.append(i)\n",
    "for size in forest_sizes:\n",
    "    print(\"Working on {}...\".format(size))\n",
    "    forest = RandomForestClassifier(n_estimators=size, min_samples_split=25, n_jobs=-1, random_state=0)\n",
    "    scores = cross_val_score(forest, X_train, y_train, cv=10, n_jobs=-1)\n",
    "    accuracies.append(scores.mean())\n",
    "plt.plot(forest_sizes, accuracies)\n",
    "plt.title(\"Mean accuracies of random forests\")\n",
    "plt.xlabel(\"Number of trees\")\n",
    "plt.ylabel(\"10-CV accuracy\")\n",
    "plt.savefig(\"rf_basic_accuracies.png\")\n",
    "plt.show()"
   ]
  },
  {
   "cell_type": "markdown",
   "id": "61fda4ea-a472-4847-ad53-360a457af78c",
   "metadata": {},
   "source": [
    "We can see on this graph that for number of trees greater or equal to 30, we reach a plateau. Let us set the number of trees to 40 and study the accuracy depending on the value of min_sample_split."
   ]
  },
  {
   "cell_type": "code",
   "execution_count": 13,
   "id": "d2f6d4f3-45c1-48aa-a2b4-59bb644c1429",
   "metadata": {},
   "outputs": [
    {
     "name": "stdout",
     "output_type": "stream",
     "text": [
      "Working on 2...\n",
      "Working on 5...\n",
      "Working on 10...\n",
      "Working on 20...\n",
      "Working on 30...\n",
      "Working on 40...\n",
      "Working on 50...\n",
      "Working on 60...\n",
      "Working on 70...\n",
      "Working on 80...\n",
      "Working on 90...\n",
      "Working on 100...\n"
     ]
    },
    {
     "data": {
      "image/png": "[encoded data removed]",
      "text/plain": [
       "<Figure size 432x288 with 1 Axes>"
      ]
     },
     "metadata": {
      "needs_background": "light"
     },
     "output_type": "display_data"
    }
   ],
   "source": [
    "mss = [2, 5]\n",
    "accuracies = []\n",
    "for i in range (10, 101, 10):\n",
    "    mss.append(i)\n",
    "for value in mss:\n",
    "    print(\"Working on {}...\".format(value))\n",
    "    forest = RandomForestClassifier(n_estimators=40, min_samples_split=value, n_jobs=-1, random_state=0)\n",
    "    scores = cross_val_score(forest, X_train, y_train, cv=10, n_jobs=-1)\n",
    "    accuracies.append(scores.mean())\n",
    "plt.plot(mss, accuracies)\n",
    "plt.title(\"Mean accuracies of random forests\")\n",
    "plt.xlabel(\"Value of min_sample_split\")\n",
    "plt.ylabel(\"10-CV accuracy\")\n",
    "plt.ylim((0.85, 0.96))\n",
    "plt.savefig(\"rf_40_accuracies.png\")\n",
    "plt.show()"
   ]
  },
  {
   "cell_type": "markdown",
   "id": "340f5f2a-9ec7-401e-a9e6-ec826947609c",
   "metadata": {},
   "source": [
    "Based on the previous graph, compute the mean accuracy with 10-CV for a random forest of 40 trees and min_sample_split=25"
   ]
  },
  {
   "cell_type": "code",
   "execution_count": 14,
   "id": "7b6d05e5-2e83-4940-8ff6-04af122c22bf",
   "metadata": {},
   "outputs": [
    {
     "name": "stdout",
     "output_type": "stream",
     "text": [
      "[0.93714286 0.92571429 0.92571429 0.95428571 0.93428571 0.91142857\n",
      " 0.92857143 0.91714286 0.92857143 0.92571429]\n",
      "0.9288571428571428\n"
     ]
    }
   ],
   "source": [
    "forest = RandomForestClassifier(n_estimators=40, min_samples_split=25, n_jobs=-1, random_state=0)\n",
    "scores = cross_val_score(forest, X_train, y_train, cv=10, n_jobs=-1)\n",
    "print(scores)\n",
    "print(scores.mean())"
   ]
  },
  {
   "cell_type": "code",
   "execution_count": null,
   "id": "61ed46f6-e8e4-48fa-822e-295ebe512053",
   "metadata": {},
   "outputs": [],
   "source": []
  }
 ],
 "metadata": {
  "kernelspec": {
   "display_name": "Python 3",
   "language": "python",
   "name": "python3"
  },
  "language_info": {
   "codemirror_mode": {
    "name": "ipython",
    "version": 3
   },
   "file_extension": ".py",
   "mimetype": "text/x-python",
   "name": "python",
   "nbconvert_exporter": "python",
   "pygments_lexer": "ipython3",
   "version": "3.9.6"
  }
 },
 "nbformat": 4,
 "nbformat_minor": 5
}
