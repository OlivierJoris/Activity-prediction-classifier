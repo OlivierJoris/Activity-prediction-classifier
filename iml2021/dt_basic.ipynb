{
 "cells": [
  {
   "cell_type": "code",
   "execution_count": null,
   "id": "d2855574-b31e-430c-8edd-cae13957084f",
   "metadata": {},
   "outputs": [],
   "source": [
    "import os\n",
    "import numpy as np\n",
    "import matplotlib.pyplot as plt\n",
    "\n",
    "from sklearn.tree import DecisionTreeClassifier\n",
    "from sklearn.model_selection import cross_val_score\n",
    "from sklearn.model_selection import train_test_split"
   ]
  },
  {
   "cell_type": "code",
   "execution_count": null,
   "id": "248dc241-8477-426f-8846-4b4ef3dde8b4",
   "metadata": {
    "tags": []
   },
   "outputs": [],
   "source": [
    "def load_data(data_path):\n",
    "    \"\"\"\n",
    "    Method given with the assignment\n",
    "    \"\"\"\n",
    "    FEATURES = range(2, 33)\n",
    "    N_TIME_SERIES = 3500\n",
    "\n",
    "    # Create the training and testing samples\n",
    "    LS_path = os.path.join(data_path, 'LS')\n",
    "    TS_path = os.path.join(data_path, 'TS')\n",
    "    X_train, X_test = [np.zeros((N_TIME_SERIES, (len(FEATURES) * 512))) for i in range(2)]\n",
    "\n",
    "    for f in FEATURES:\n",
    "        data = np.loadtxt(os.path.join(LS_path, 'LS_sensor_{}.txt'.format(f)))\n",
    "        X_train[:, (f-2)*512:(f-2+1)*512] = data\n",
    "        data = np.loadtxt(os.path.join(TS_path, 'TS_sensor_{}.txt'.format(f)))\n",
    "        X_test[:, (f-2)*512:(f-2+1)*512] = data\n",
    "    \n",
    "    y_train = np.loadtxt(os.path.join(LS_path, 'activity_Id.txt'))\n",
    "\n",
    "    print('X_train size: {}.'.format(X_train.shape))\n",
    "    print('y_train size: {}.'.format(y_train.shape))\n",
    "    print('X_test size: {}.'.format(X_test.shape))\n",
    "\n",
    "    return X_train, y_train, X_test"
   ]
  },
  {
   "cell_type": "code",
   "execution_count": null,
   "id": "b78e359b-d54a-40fb-968c-a1c347a9d971",
   "metadata": {
    "tags": []
   },
   "outputs": [],
   "source": [
    "def write_submission(y, where, submission_name='toy_submission.csv'):\n",
    "\n",
    "    os.makedirs(where, exist_ok=True)\n",
    "\n",
    "    SUBMISSION_PATH = os.path.join(where, submission_name)\n",
    "    if os.path.exists(SUBMISSION_PATH):\n",
    "        os.remove(SUBMISSION_PATH)\n",
    "\n",
    "    y = y.astype(int)\n",
    "    outputs = np.unique(y)\n",
    "\n",
    "    # Verify conditions on the predictions\n",
    "    if np.max(outputs) > 14:\n",
    "        raise ValueError('Class {} does not exist.'.format(np.max(outputs)))\n",
    "    if np.min(outputs) < 1:\n",
    "        raise ValueError('Class {} does not exist.'.format(np.min(outputs)))\n",
    "    \n",
    "    # Write submission file\n",
    "    with open(SUBMISSION_PATH, 'a') as file:\n",
    "        n_samples = len(y)\n",
    "        if n_samples != 3500:\n",
    "            raise ValueError('Check the number of predicted values.')\n",
    "\n",
    "        file.write('Id,Prediction\\n')\n",
    "\n",
    "        for n, i in enumerate(y):\n",
    "            file.write('{},{}\\n'.format(n+1, int(i)))\n",
    "\n",
    "    print('Submission {} saved in {}.'.format(submission_name, SUBMISSION_PATH))\n"
   ]
  },
  {
   "cell_type": "code",
   "execution_count": null,
   "id": "1c34cd50-1dc0-41b1-b62b-e3132a0294d9",
   "metadata": {},
   "outputs": [],
   "source": [
    "X_train, y_train, X_test = load_data('data')"
   ]
  },
  {
   "cell_type": "markdown",
   "id": "d8bf28ad-8b9d-45e9-9659-dd5987bbd1bd",
   "metadata": {},
   "source": [
    "Decision tree with min_sample_split = 50 evaluated with 10-CV"
   ]
  },
  {
   "cell_type": "code",
   "execution_count": null,
   "id": "bc373e33-b291-4e58-ad52-23ffaea10d5f",
   "metadata": {},
   "outputs": [],
   "source": [
    "clfDT50 = DecisionTreeClassifier(min_samples_split=50)\n",
    "scoresDT50 = cross_val_score(clfDT50, X_train, y_train, cv=10, n_jobs=-1, error_score='raise')\n",
    "print(scoresDT50.mean())"
   ]
  },
  {
   "cell_type": "markdown",
   "id": "d65bbe6f-9ad5-46e7-aafe-7c7bf0712dfb",
   "metadata": {},
   "source": [
    "Study the accuracy of DT based on the value of min_sample_split"
   ]
  },
  {
   "cell_type": "code",
   "execution_count": null,
   "id": "c2339564-0c07-4a3f-b0fd-db92aa7a81fe",
   "metadata": {},
   "outputs": [],
   "source": [
    "mss = []\n",
    "accuracies = []\n",
    "for i in range(5, 15871, 500):\n",
    "    mss.append(i)\n",
    "    clf = DecisionTreeClassifier(min_samples_split=i)\n",
    "    scores = cross_val_score(clf, X_train, y_train, cv=10, n_jobs=-1)\n",
    "    accuracies.append(scores.mean())\n",
    "plt.plot(mss, accuracies)\n",
    "plt.title(\"Mean accuracies of decision trees\")\n",
    "plt.xlabel(\"Value of min_samples_split\")\n",
    "plt.ylabel(\"10-CV accuracy\")\n",
    "plt.savefig(\"dt_basic_accuracies_1.png\")\n",
    "plt.show()"
   ]
  },
  {
   "cell_type": "markdown",
   "id": "9fcd2753-1e48-473b-9b89-2b2d15b95ffb",
   "metadata": {},
   "source": [
    "Based on this first study, we can see that the value of min_sample_split that provides the highest accuracy is lower than 2000.\n",
    "Let us do a more precise study."
   ]
  },
  {
   "cell_type": "code",
   "execution_count": null,
   "id": "226f2abc-2b56-4c6b-9be7-ce7dcc763a36",
   "metadata": {},
   "outputs": [],
   "source": [
    "mss = []\n",
    "accuracies = []\n",
    "for i in range(5, 2000, 100):\n",
    "    mss.append(i)\n",
    "    clf = DecisionTreeClassifier(min_samples_split=i)\n",
    "    scores = cross_val_score(clf, X_train, y_train, cv=10, n_jobs=-1)\n",
    "    accuracies.append(scores.mean())\n",
    "plt.plot(mss, accuracies)\n",
    "plt.title(\"Mean accuracies of decision trees\")\n",
    "plt.xlabel(\"Value of min_samples_split\")\n",
    "plt.ylabel(\"10-CV accuracy\")\n",
    "plt.savefig(\"dt_basic_accuracies_2.png\")\n",
    "plt.show()"
   ]
  },
  {
   "cell_type": "markdown",
   "id": "33df755b-a650-4e40-a31a-c752350fac0a",
   "metadata": {},
   "source": [
    "Based on this second study, we can see that the value of min sample_split that provides the highest accuracy is lower than 250. Let us do a more precise study."
   ]
  },
  {
   "cell_type": "code",
   "execution_count": null,
   "id": "337e75e5-e904-4d1a-9c4c-f917b149d915",
   "metadata": {},
   "outputs": [],
   "source": [
    "mss = []\n",
    "accuracies = []\n",
    "for i in range(5, 200, 20):\n",
    "    mss.append(i)\n",
    "    clf = DecisionTreeClassifier(min_samples_split=i)\n",
    "    scores = cross_val_score(clf, X_train, y_train, cv=10, n_jobs=-1)\n",
    "    accuracies.append(scores.mean())\n",
    "plt.plot(mss, accuracies)\n",
    "plt.title(\"Mean accuracies of decision trees\")\n",
    "plt.xlabel(\"Value of min_samples_split\")\n",
    "plt.ylabel(\"10-CV accuracy\")\n",
    "plt.savefig(\"dt_basic_accuracies_3.png\")\n",
    "plt.show()"
   ]
  },
  {
   "cell_type": "markdown",
   "id": "31224e5a-ccb8-4e2a-b050-641003d1b114",
   "metadata": {},
   "source": [
    "Let us do another study for values of min_sample_split between 1 and 25"
   ]
  },
  {
   "cell_type": "code",
   "execution_count": null,
   "id": "bb4282fb-5777-4594-bc30-64213dd654a7",
   "metadata": {},
   "outputs": [],
   "source": [
    "mss = [1, 5, 10, 15, 20, 25]\n",
    "accuracies = []\n",
    "for val in mss:\n",
    "    clf = DecisionTreeClassifier(min_samples_split=i)\n",
    "    scores = cross_val_score(clf, X_train, y_train, cv=10, n_jobs=-1)\n",
    "    accuracies.append(scores.mean())\n",
    "plt.plot(mss, accuracies)\n",
    "plt.title(\"Mean accuracies of decision trees\")\n",
    "plt.xlabel(\"Value of min_samples_split\")\n",
    "plt.ylabel(\"10-CV accuracy\")\n",
    "plt.savefig(\"dt_basic_accuracies_4.png\")\n",
    "plt.show()"
   ]
  },
  {
   "cell_type": "markdown",
   "id": "3fb7b0ad-85cb-464a-b72a-b9f8e8a9be1e",
   "metadata": {},
   "source": [
    "Let us study what happens precisely in the range [1,5]"
   ]
  },
  {
   "cell_type": "code",
   "execution_count": null,
   "id": "760a2b91-7085-441e-8c50-f2b086e7fd2c",
   "metadata": {},
   "outputs": [],
   "source": [
    "mss = []\n",
    "accuracies = []\n",
    "for i in range(1,6,1):\n",
    "    mss.append(i)\n",
    "    clf = DecisionTreeClassifier(min_samples_split=i)\n",
    "    scores = cross_val_score(clf, X_train, y_train, cv=10, n_jobs=-1)\n",
    "    accuracies.append(scores.mean())\n",
    "plt.plot(mss, accuracies)\n",
    "plt.title(\"Mean accuracies of decision trees\")\n",
    "plt.xlabel(\"Value of min_samples_split\")\n",
    "plt.ylabel(\"10-CV accuracy\")\n",
    "plt.savefig(\"dt_basic_accuracies_5.png\")\n",
    "plt.show()"
   ]
  },
  {
   "cell_type": "markdown",
   "id": "ca24b8f6-9d0b-4dda-8d58-eddebaeae0e8",
   "metadata": {},
   "source": [
    "Using a small value for min_samples_split seems to provide the best accuracy using a 10-CV.\n",
    "But, we migh overfit on unseen data. Let us study the overfitting."
   ]
  },
  {
   "cell_type": "code",
   "execution_count": null,
   "id": "ed7c6c3a-69c4-4aa0-a7ec-b9a038627da0",
   "metadata": {},
   "outputs": [],
   "source": [
    "xtrain, xtest, ytrain, ytest = train_test_split(X_train, y_train, test_size=0.8, random_state=42)"
   ]
  },
  {
   "cell_type": "code",
   "execution_count": null,
   "id": "7d78e143-b2a2-49f2-82c7-752023f49c2e",
   "metadata": {},
   "outputs": [],
   "source": [
    "mss = []\n",
    "accuracies = []\n",
    "for i in range(2,6,1):\n",
    "    mss.append(i)\n",
    "    clf = DecisionTreeClassifier(min_samples_split=i).fit(xtrain, ytrain)\n",
    "    score = clf.score(xtest, ytest)\n",
    "    accuracies.append(score)\n",
    "plt.plot(mss, accuracies)\n",
    "plt.title(\"Mean accuracies of decision trees\")\n",
    "plt.xlabel(\"Value of min_samples_split\")\n",
    "plt.ylabel(\"10-CV accuracy\")\n",
    "plt.savefig(\"dt_basic_accuracies_6.png\")\n",
    "plt.show()"
   ]
  },
  {
   "cell_type": "markdown",
   "id": "455c6f95-e589-4f87-b126-c2b89bec3400",
   "metadata": {},
   "source": [
    "Let us use minimal cost-complexity prunning.\n",
    "Based on https://scikit-learn.org/stable/auto_examples/tree/plot_cost_complexity_pruning.html#"
   ]
  },
  {
   "cell_type": "code",
   "execution_count": null,
   "id": "806782a1-efec-4955-84f8-efc99fa2990f",
   "metadata": {},
   "outputs": [],
   "source": [
    "xtrain, xtest, ytrain, ytest = train_test_split(X_train, y_train, random_state=42)"
   ]
  },
  {
   "cell_type": "code",
   "execution_count": null,
   "id": "f1136ac0-30fd-4fc7-9359-76179c038362",
   "metadata": {},
   "outputs": [],
   "source": [
    "tree = DecisionTreeClassifier(random_state=42)\n",
    "path = tree.cost_complexity_pruning_path(xtrain, ytrain)\n",
    "ccp_alphas, impurities = path.ccp_alphas, path.impurities"
   ]
  },
  {
   "cell_type": "code",
   "execution_count": null,
   "id": "831620e2-661c-4146-a7e7-531775adb275",
   "metadata": {},
   "outputs": [],
   "source": [
    "ccp_alphas = np.sort(ccp_alphas)\n",
    "print(ccp_alphas)\n",
    "print(len(ccp_alphas))"
   ]
  },
  {
   "cell_type": "markdown",
   "id": "96977366-3650-4be0-92a3-f79a4d0a6a10",
   "metadata": {},
   "source": [
    "We cannot try all the values. It requires too much computation. We will try a fifth of it."
   ]
  },
  {
   "cell_type": "code",
   "execution_count": null,
   "id": "8b38635a-6e2e-435d-afed-c16018dde917",
   "metadata": {},
   "outputs": [],
   "source": [
    "trees = []\n",
    "ccp = []\n",
    "lenCPP = len(ccp_alphas)\n",
    "i=0\n",
    "while i < lenCPP:\n",
    "    tree = DecisionTreeClassifier(random_state=42, ccp_alpha=ccp_alphas[i])\n",
    "    tree.fit(xtrain, ytrain)\n",
    "    trees.append(tree)\n",
    "    ccp.append(ccp_alphas[i])\n",
    "    i+=5"
   ]
  },
  {
   "cell_type": "code",
   "execution_count": null,
   "id": "0b8d0258-885b-4a36-ae2c-2df97cb404e6",
   "metadata": {},
   "outputs": [],
   "source": [
    "train_scores = [tree.score(X_train, y_train) for tree in trees]\n",
    "test_scores = [tree.score(X_test, y_test) for tree in trees]\n",
    "\n",
    "fig, ax = plt.subplots()\n",
    "ax.set_xlabel(\"alpha\")\n",
    "ax.set_ylabel(\"accuracy\")\n",
    "ax.set_title(\"Accuracy vs alpha for training and testing sets\")\n",
    "ax.plot(ccp, train_scores, marker=\"o\", label=\"train\", drawstyle=\"steps-post\")\n",
    "ax.plot(ccp, test_scores, marker=\"o\", label=\"test\", drawstyle=\"steps-post\")\n",
    "ax.legend()\n",
    "plt.show()"
   ]
  }
 ],
 "metadata": {
  "kernelspec": {
   "display_name": "Python 3 (ipykernel)",
   "language": "python",
   "name": "python3"
  },
  "language_info": {
   "codemirror_mode": {
    "name": "ipython",
    "version": 3
   },
   "file_extension": ".py",
   "mimetype": "text/x-python",
   "name": "python",
   "nbconvert_exporter": "python",
   "pygments_lexer": "ipython3",
   "version": "3.9.7"
  }
 },
 "nbformat": 4,
 "nbformat_minor": 5
}
