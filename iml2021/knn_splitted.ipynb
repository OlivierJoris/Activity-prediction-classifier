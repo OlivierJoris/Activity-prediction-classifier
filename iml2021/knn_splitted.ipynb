{
 "cells": [
  {
   "cell_type": "code",
   "execution_count": 1,
   "id": "fafa3591-7401-4cd9-b83d-ae1d0020266b",
   "metadata": {},
   "outputs": [],
   "source": [
    "import os\n",
    "import numpy as np\n",
    "from sklearn.neighbors import KNeighborsClassifier"
   ]
  },
  {
   "cell_type": "code",
   "execution_count": 2,
   "id": "ec225122-f924-49f4-89e0-7c495a83a5fb",
   "metadata": {
    "tags": []
   },
   "outputs": [],
   "source": [
    "class KnnSplitted:\n",
    "    \"\"\"\n",
    "    Classifier that uses one KNN per feature.\n",
    "    \"\"\"\n",
    "\n",
    "    def __init__(self, n_neighbors):\n",
    "        \"\"\"\n",
    "        Argument:\n",
    "        ---------\n",
    "        - `n_neighbors`: number of neighbors used in the KNN models.\n",
    "        \"\"\"\n",
    "        self.n_neighbors = n_neighbors\n",
    "    \n",
    "    def load_data(self, data_path):\n",
    "        \"\"\"\n",
    "        Load the data for the classifer.\n",
    "        Modified from the method given with the assignment.\n",
    "        \"\"\"\n",
    "\n",
    "        FEATURES = range(2, 33)\n",
    "        N_TIME_SERIES = 3500\n",
    "\n",
    "        # Create the training and testing samples\n",
    "        LS_path = os.path.join(data_path, 'LS')\n",
    "        TS_path = os.path.join(data_path, 'TS')\n",
    "        X_train = [np.zeros((N_TIME_SERIES, 512)) for i in range(2, 33)]\n",
    "        X_test = [np.zeros((N_TIME_SERIES, 512)) for i in range(2, 33)]\n",
    "\n",
    "        for f in FEATURES:\n",
    "            data = np.loadtxt(os.path.join(LS_path, 'LS_sensor_{}.txt'.format(f)))\n",
    "            X_train[f-2] = data\n",
    "            data = np.loadtxt(os.path.join(TS_path, 'TS_sensor_{}.txt'.format(f)))\n",
    "            X_test[f-2] = data\n",
    "\n",
    "        y_train = np.loadtxt(os.path.join(LS_path, 'activity_Id.txt'))\n",
    "\n",
    "        print('X_train len: {}.'.format(len(X_train)))\n",
    "        print('y_train len: {}.'.format(len(y_train)))\n",
    "        print('X_test len: {}.'.format(len(X_test)))\n",
    "\n",
    "        self.X_train = X_train\n",
    "        self.y_train = y_train\n",
    "        self.X_test = X_test\n",
    "    \n",
    "    def fit(self):\n",
    "        \"\"\"\n",
    "        Fit the classifier.\n",
    "        \"\"\"\n",
    "\n",
    "        self.models = []\n",
    "\n",
    "        for i in range(2, 33):\n",
    "            model = KNeighborsClassifier(n_neighbors=self.n_neighbors)\n",
    "            model.fit(self.X_train[i-2], self.y_train)\n",
    "            self.models.append(model)\n",
    "\n",
    "    def predict(self):\n",
    "        \"\"\"\n",
    "        Predict the class labels.\n",
    "        \"\"\"\n",
    "\n",
    "        predictions = np.zeros((31, 3500), dtype=int)\n",
    "\n",
    "        for i in range(2, 33):\n",
    "            pred = np.zeros(3500)\n",
    "            pred = self.models[i-2].predict(self.X_test[i-2])\n",
    "            predictions[i-2] = pred\n",
    "\n",
    "        predictedClasses = np.zeros(3500, dtype=int)\n",
    "        for i in range (3500):\n",
    "            predictedClasses[i] = np.argmax(np.bincount(predictions[:, i]))\n",
    "\n",
    "        return predictedClasses"
   ]
  },
  {
   "cell_type": "code",
   "execution_count": 3,
   "id": "e0ffd53c-791c-4bfd-8e67-69fdae936b2e",
   "metadata": {},
   "outputs": [
    {
     "name": "stdout",
     "output_type": "stream",
     "text": [
      "X_train len: 31.\n",
      "y_train len: 3500.\n",
      "X_test len: 31.\n"
     ]
    }
   ],
   "source": [
    "clf = KnnSplitted(n_neighbors=1)\n",
    "clf.load_data('data')"
   ]
  },
  {
   "cell_type": "code",
   "execution_count": 4,
   "id": "fd05d594-2d2e-4143-a73c-503241862ed1",
   "metadata": {},
   "outputs": [],
   "source": [
    "clf.fit()"
   ]
  },
  {
   "cell_type": "code",
   "execution_count": 5,
   "id": "e370b74d-0ad0-418b-be80-052f229ba8c7",
   "metadata": {},
   "outputs": [
    {
     "name": "stdout",
     "output_type": "stream",
     "text": [
      "[ 4 11  6 ...  5  1  5]\n"
     ]
    }
   ],
   "source": [
    "predictions = np.zeros(3500)\n",
    "predictions = clf.predict()\n",
    "print(predictions)"
   ]
  },
  {
   "cell_type": "code",
   "execution_count": null,
   "id": "0d9244fe-7b22-4287-9d6b-8ca064e9207b",
   "metadata": {},
   "outputs": [],
   "source": []
  }
 ],
 "metadata": {
  "kernelspec": {
   "display_name": "Python 3",
   "language": "python",
   "name": "python3"
  },
  "language_info": {
   "codemirror_mode": {
    "name": "ipython",
    "version": 3
   },
   "file_extension": ".py",
   "mimetype": "text/x-python",
   "name": "python",
   "nbconvert_exporter": "python",
   "pygments_lexer": "ipython3",
   "version": "3.9.6"
  }
 },
 "nbformat": 4,
 "nbformat_minor": 5
}
