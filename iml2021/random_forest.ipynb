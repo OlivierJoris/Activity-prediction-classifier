{
 "cells": [
  {
   "cell_type": "code",
   "execution_count": 1,
   "id": "3d594abb-8857-42ee-a133-4749b791c48b",
   "metadata": {},
   "outputs": [],
   "source": [
    "import os\n",
    "import numpy as np\n",
    "import matplotlib.pyplot as plt\n",
    "\n",
    "from sklearn.ensemble import RandomForestClassifier\n",
    "from sklearn.model_selection import cross_val_score\n",
    "from sklearn.model_selection import train_test_split"
   ]
  },
  {
   "cell_type": "code",
   "execution_count": 2,
   "id": "78296783-bf22-4470-a5a8-a1beeac7d428",
   "metadata": {},
   "outputs": [],
   "source": [
    "def load_data(data_path):\n",
    "    \"\"\"\n",
    "    Method given with the assignment\n",
    "    \"\"\"\n",
    "    FEATURES = range(2, 33)\n",
    "    N_TIME_SERIES = 3500\n",
    "\n",
    "    # Create the training and testing samples\n",
    "    LS_path = os.path.join(data_path, 'LS')\n",
    "    TS_path = os.path.join(data_path, 'TS')\n",
    "    X_train, X_test = [np.zeros((N_TIME_SERIES, (len(FEATURES) * 512))) for i in range(2)]\n",
    "\n",
    "    for f in FEATURES:\n",
    "        data = np.loadtxt(os.path.join(LS_path, 'LS_sensor_{}.txt'.format(f)))\n",
    "        X_train[:, (f-2)*512:(f-2+1)*512] = data\n",
    "        data = np.loadtxt(os.path.join(TS_path, 'TS_sensor_{}.txt'.format(f)))\n",
    "        X_test[:, (f-2)*512:(f-2+1)*512] = data\n",
    "    \n",
    "    y_train = np.loadtxt(os.path.join(LS_path, 'activity_Id.txt'))\n",
    "\n",
    "    print('X_train size: {}.'.format(X_train.shape))\n",
    "    print('y_train size: {}.'.format(y_train.shape))\n",
    "    print('X_test size: {}.'.format(X_test.shape))\n",
    "\n",
    "    return X_train, y_train, X_test"
   ]
  },
  {
   "cell_type": "code",
   "execution_count": 3,
   "id": "290713d0-5e62-4cc9-9dea-a026d38ef040",
   "metadata": {},
   "outputs": [],
   "source": [
    "def write_submission(y, where, submission_name='toy_submission.csv'):\n",
    "\n",
    "    os.makedirs(where, exist_ok=True)\n",
    "\n",
    "    SUBMISSION_PATH = os.path.join(where, submission_name)\n",
    "    if os.path.exists(SUBMISSION_PATH):\n",
    "        os.remove(SUBMISSION_PATH)\n",
    "\n",
    "    y = y.astype(int)\n",
    "    outputs = np.unique(y)\n",
    "\n",
    "    # Verify conditions on the predictions\n",
    "    if np.max(outputs) > 14:\n",
    "        raise ValueError('Class {} does not exist.'.format(np.max(outputs)))\n",
    "    if np.min(outputs) < 1:\n",
    "        raise ValueError('Class {} does not exist.'.format(np.min(outputs)))\n",
    "    \n",
    "    # Write submission file\n",
    "    with open(SUBMISSION_PATH, 'a') as file:\n",
    "        n_samples = len(y)\n",
    "        if n_samples != 3500:\n",
    "            raise ValueError('Check the number of predicted values.')\n",
    "\n",
    "        file.write('Id,Prediction\\n')\n",
    "\n",
    "        for n, i in enumerate(y):\n",
    "            file.write('{},{}\\n'.format(n+1, int(i)))\n",
    "\n",
    "    print('Submission {} saved in {}.'.format(submission_name, SUBMISSION_PATH))\n"
   ]
  },
  {
   "cell_type": "code",
   "execution_count": 4,
   "id": "d9a285bb-c08c-4208-8306-cbc9bc67aa58",
   "metadata": {},
   "outputs": [
    {
     "name": "stdout",
     "output_type": "stream",
     "text": [
      "X_train size: (3500, 15872).\n",
      "y_train size: (3500,).\n",
      "X_test size: (3500, 15872).\n"
     ]
    }
   ],
   "source": [
    "X_train, y_train, X_test = load_data('data')"
   ]
  },
  {
   "cell_type": "markdown",
   "id": "60055428-ea4b-4850-8383-829a3c7ddadc",
   "metadata": {},
   "source": [
    "First test with a random forest composed of 10 estimators and min_sample_split=200"
   ]
  },
  {
   "cell_type": "code",
   "execution_count": 5,
   "id": "4c7a9a17-c916-41a7-b950-0b81e484d8b3",
   "metadata": {},
   "outputs": [
    {
     "name": "stdout",
     "output_type": "stream",
     "text": [
      "[0.74857143 0.75142857 0.76571429 0.75714286 0.73142857 0.73142857\n",
      " 0.76571429 0.72       0.74       0.72285714]\n",
      "0.7434285714285714\n"
     ]
    }
   ],
   "source": [
    "forest = RandomForestClassifier(n_estimators=10, min_samples_split=200, n_jobs=-1)\n",
    "scores = cross_val_score(forest, X_train, y_train, cv=10, n_jobs=-1)\n",
    "print(scores)\n",
    "print(scores.mean())"
   ]
  },
  {
   "cell_type": "markdown",
   "id": "5322c366-dc36-4094-bbf8-98b20cef7fad",
   "metadata": {},
   "source": [
    "Second test with a random forest composed of 50 estimators and min_sample_split=200"
   ]
  },
  {
   "cell_type": "code",
   "execution_count": 6,
   "id": "775c78ff-9dbe-4d04-8bef-eb0f34db3293",
   "metadata": {},
   "outputs": [
    {
     "name": "stdout",
     "output_type": "stream",
     "text": [
      "[0.78       0.77714286 0.76285714 0.78285714 0.75714286 0.73714286\n",
      " 0.76571429 0.74857143 0.76571429 0.79142857]\n",
      "0.766857142857143\n"
     ]
    }
   ],
   "source": [
    "forest = RandomForestClassifier(n_estimators=50, min_samples_split=200, n_jobs=-1)\n",
    "scores = cross_val_score(forest, X_train, y_train, cv=10, n_jobs=-1)\n",
    "print(scores)\n",
    "print(scores.mean())"
   ]
  },
  {
   "cell_type": "markdown",
   "id": "16017751-6623-4dcd-a93a-3c35157940c1",
   "metadata": {},
   "source": [
    "Third test with a random forest composed of 50 estimators and min_sample_split=100"
   ]
  },
  {
   "cell_type": "code",
   "execution_count": 7,
   "id": "3bb9c230-d765-4c1b-9855-d5bf325264eb",
   "metadata": {},
   "outputs": [
    {
     "name": "stdout",
     "output_type": "stream",
     "text": [
      "[0.86       0.87142857 0.85142857 0.86857143 0.86285714 0.84857143\n",
      " 0.86       0.84571429 0.85428571 0.86285714]\n",
      "0.8585714285714285\n"
     ]
    }
   ],
   "source": [
    "forest = RandomForestClassifier(n_estimators=50, min_samples_split=100, n_jobs=-1)\n",
    "scores = cross_val_score(forest, X_train, y_train, cv=10, n_jobs=-1)\n",
    "print(scores)\n",
    "print(scores.mean())"
   ]
  },
  {
   "cell_type": "markdown",
   "id": "7ae4c5d1-011b-4e2c-9475-dbcadee3dcd7",
   "metadata": {},
   "source": [
    "Fourth test with a random forest composed of 100 estimators and min_sample_split=50"
   ]
  },
  {
   "cell_type": "code",
   "execution_count": 8,
   "id": "dcfa5ba9-d007-4047-bd2d-0a65e52ca83f",
   "metadata": {},
   "outputs": [
    {
     "name": "stdout",
     "output_type": "stream",
     "text": [
      "[0.91428571 0.9        0.92       0.93142857 0.91142857 0.87142857\n",
      " 0.91142857 0.89428571 0.9        0.90285714]\n",
      "0.9057142857142857\n"
     ]
    }
   ],
   "source": [
    "forest = RandomForestClassifier(n_estimators=100, min_samples_split=50, n_jobs=-1)\n",
    "scores = cross_val_score(forest, X_train, y_train, cv=10, n_jobs=-1)\n",
    "print(scores)\n",
    "print(scores.mean())"
   ]
  },
  {
   "cell_type": "markdown",
   "id": "b8ff7d11-a20d-4850-ab1b-845304129bdb",
   "metadata": {},
   "source": [
    "Study the accuracy of the forest based on the number of trees (min_sample_split = 50)"
   ]
  },
  {
   "cell_type": "code",
   "execution_count": 10,
   "id": "c89a2bc6-0056-4529-b9c6-ba60c9bf14b4",
   "metadata": {},
   "outputs": [
    {
     "data": {
      "image/png": "[encoded data removed]",
      "text/plain": [
       "<Figure size 432x288 with 1 Axes>"
      ]
     },
     "metadata": {
      "needs_background": "light"
     },
     "output_type": "display_data"
    }
   ],
   "source": [
    "forest_sizes = []\n",
    "accuracies = []\n",
    "for i in range(1, 201, 10):\n",
    "    forest_sizes.append(i)\n",
    "    forest = RandomForestClassifier(n_estimators=i, min_samples_split=50, n_jobs=-1)\n",
    "    scores = cross_val_score(forest, X_train, y_train, cv=10, n_jobs=-1)\n",
    "    accuracies.append(scores.mean())\n",
    "plt.plot(forest_sizes, accuracies)\n",
    "plt.title(\"Mean accuracies of random forests\")\n",
    "plt.xlabel(\"Number of trees\")\n",
    "plt.ylabel(\"10-CV accuracy\")\n",
    "plt.savefig(\"rf_basic_accuracies.png\")\n",
    "plt.show()"
   ]
  },
  {
   "cell_type": "markdown",
   "id": "61fda4ea-a472-4847-ad53-360a457af78c",
   "metadata": {},
   "source": [
    "We can see on this graph that for number of trees greater or equal to 30, we reach a plateau. Let us set the number of trees to 40 and study the accuracy depending on the value of min_sample_split."
   ]
  },
  {
   "cell_type": "code",
   "execution_count": 14,
   "id": "d2f6d4f3-45c1-48aa-a2b4-59bb644c1429",
   "metadata": {},
   "outputs": [
    {
     "data": {
      "image/png": "[encoded data removed]",
      "text/plain": [
       "<Figure size 432x288 with 1 Axes>"
      ]
     },
     "metadata": {
      "needs_background": "light"
     },
     "output_type": "display_data"
    }
   ],
   "source": [
    "mss = []\n",
    "accuracies = []\n",
    "for i in range (25, 100, 10):\n",
    "    mss.append(i)\n",
    "    forest = RandomForestClassifier(n_estimators=40, min_samples_split=i, n_jobs=-1)\n",
    "    scores = cross_val_score(forest, X_train, y_train, cv=10, n_jobs=-1)\n",
    "    accuracies.append(scores.mean())\n",
    "plt.plot(mss, accuracies)\n",
    "plt.title(\"Mean accuracies of random forests\")\n",
    "plt.xlabel(\"Value of min_sample_split\")\n",
    "plt.ylabel(\"10-CV accuracy\")\n",
    "plt.savefig(\"rf_40_accuracies.png\")\n",
    "plt.show()"
   ]
  },
  {
   "cell_type": "markdown",
   "id": "340f5f2a-9ec7-401e-a9e6-ec826947609c",
   "metadata": {},
   "source": [
    "Based on the previous graph, compute the mean accuracy with 10-CV for a random forest of 40 trees and min_sample_split=25"
   ]
  },
  {
   "cell_type": "code",
   "execution_count": 17,
   "id": "7b6d05e5-2e83-4940-8ff6-04af122c22bf",
   "metadata": {},
   "outputs": [
    {
     "name": "stdout",
     "output_type": "stream",
     "text": [
      "[0.93428571 0.94       0.92571429 0.94571429 0.94857143 0.90857143\n",
      " 0.91142857 0.91714286 0.92       0.92857143]\n",
      "0.9280000000000002\n"
     ]
    }
   ],
   "source": [
    "forest = RandomForestClassifier(n_estimators=40, min_samples_split=25, n_jobs=-1)\n",
    "scores = cross_val_score(forest, X_train, y_train, cv=10, n_jobs=-1)\n",
    "print(scores)\n",
    "print(scores.mean())"
   ]
  },
  {
   "cell_type": "code",
   "execution_count": null,
   "id": "eb3e3618-6bb9-496f-b71b-d44360763430",
   "metadata": {},
   "outputs": [],
   "source": []
  }
 ],
 "metadata": {
  "kernelspec": {
   "display_name": "Python 3 (ipykernel)",
   "language": "python",
   "name": "python3"
  },
  "language_info": {
   "codemirror_mode": {
    "name": "ipython",
    "version": 3
   },
   "file_extension": ".py",
   "mimetype": "text/x-python",
   "name": "python",
   "nbconvert_exporter": "python",
   "pygments_lexer": "ipython3",
   "version": "3.9.7"
  }
 },
 "nbformat": 4,
 "nbformat_minor": 5
}
