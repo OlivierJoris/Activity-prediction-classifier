{
 "cells": [
  {
   "cell_type": "code",
   "execution_count": null,
   "id": "d3c5f9c8-cf6e-494b-87af-381b0e04aa79",
   "metadata": {},
   "outputs": [],
   "source": [
    "import os\n",
    "import numpy as np\n",
    "import matplotlib.pyplot as plt\n",
    "\n",
    "from sktime.classification.distance_based import KNeighborsTimeSeriesClassifier\n",
    "from sktime.datasets import load_basic_motions\n",
    "from sktime.datatypes._panel._convert import from_3d_numpy_to_nested"
   ]
  },
  {
   "cell_type": "code",
   "execution_count": null,
   "id": "0085f182-cfb0-41d5-b733-48b1b7bf3120",
   "metadata": {},
   "outputs": [],
   "source": [
    "def load_data(data_path):\n",
    "    \"\"\"\n",
    "    Based on method given with the assignment.\n",
    "    Load the data in a 3D-array.\n",
    "    \"\"\"\n",
    "\n",
    "    FEATURES = range(2, 33)\n",
    "    N_TIME_SERIES = 3500\n",
    "\n",
    "    # Create the training and testing samples\n",
    "    LS_path = os.path.join(data_path, 'LS')\n",
    "    TS_path = os.path.join(data_path, 'TS')\n",
    "    X_train = np.zeros((N_TIME_SERIES, len(FEATURES), 512))\n",
    "    X_test = np.zeros((N_TIME_SERIES, len(FEATURES), 512))\n",
    "\n",
    "    for f in FEATURES:\n",
    "        print(\"Loading feature {}...\".format(f))\n",
    "        data = np.loadtxt(os.path.join(LS_path, 'LS_sensor_{}.txt'.format(f)))\n",
    "        for i in range(N_TIME_SERIES):\n",
    "            X_train[i][f-2][:] = data[i]\n",
    "        data = np.loadtxt(os.path.join(TS_path, 'TS_sensor_{}.txt'.format(f)))\n",
    "        for i in range(N_TIME_SERIES):\n",
    "            X_test[i][f-2][:] = data[i]\n",
    "\n",
    "    y_train = np.loadtxt(os.path.join(LS_path, 'activity_Id.txt'))\n",
    "\n",
    "    print('X_train size: {}.'.format(X_train.shape))\n",
    "    print('y_train size: {}.'.format(y_train.shape))\n",
    "    print('X_test size: {}.'.format(X_test.shape))\n",
    "    \n",
    "    X_train = from_3d_numpy_to_nested(X_train)\n",
    "    X_test = from_3d_numpy_to_nested(X_test)\n",
    "\n",
    "    return X_train, y_train, X_test"
   ]
  },
  {
   "cell_type": "code",
   "execution_count": null,
   "id": "ecb3019d-63f8-406a-a5a2-27cbd595a641",
   "metadata": {},
   "outputs": [],
   "source": [
    "def write_submission(y, where, submission_name='toy_submission.csv'):\n",
    "    \"\"\"\n",
    "    Method given with the assignment.\n",
    "    \"\"\"\n",
    "    os.makedirs(where, exist_ok=True)\n",
    "\n",
    "    SUBMISSION_PATH = os.path.join(where, submission_name)\n",
    "    if os.path.exists(SUBMISSION_PATH):\n",
    "        os.remove(SUBMISSION_PATH)\n",
    "\n",
    "    y = y.astype(int)\n",
    "    outputs = np.unique(y)\n",
    "\n",
    "    # Verify conditions on the predictions\n",
    "    if np.max(outputs) > 14:\n",
    "        raise ValueError('Class {} does not exist.'.format(np.max(outputs)))\n",
    "    if np.min(outputs) < 1:\n",
    "        raise ValueError('Class {} does not exist.'.format(np.min(outputs)))\n",
    "    \n",
    "    # Write submission file\n",
    "    with open(SUBMISSION_PATH, 'a') as file:\n",
    "        n_samples = len(y)\n",
    "        if n_samples != 3500:\n",
    "            raise ValueError('Check the number of predicted values.')\n",
    "\n",
    "        file.write('Id,Prediction\\n')\n",
    "\n",
    "        for n, i in enumerate(y):\n",
    "            file.write('{},{}\\n'.format(n+1, int(i)))\n",
    "\n",
    "    print('Submission {} saved in {}.'.format(submission_name, SUBMISSION_PATH))"
   ]
  },
  {
   "cell_type": "code",
   "execution_count": null,
   "id": "3ca0abd0-e7ce-4efb-81d8-a540a6da0018",
   "metadata": {},
   "outputs": [],
   "source": [
    "X_train, y_train, X_test = load_data('data')"
   ]
  },
  {
   "cell_type": "code",
   "execution_count": null,
   "id": "2db31abe-9843-4c99-ad12-88500c2d06fb",
   "metadata": {},
   "outputs": [],
   "source": [
    "clf = KNeighborsTimeSeriesClassifier(n_neighbors=1)\n",
    "clf.fit(X_train, y_train)"
   ]
  },
  {
   "cell_type": "code",
   "execution_count": null,
   "id": "b2013b9b-32bf-4c08-ac24-986ce2cc3dca",
   "metadata": {
    "tags": []
   },
   "outputs": [],
   "source": [
    "predictions = clf.predict(X_test)"
   ]
  },
  {
   "cell_type": "code",
   "execution_count": null,
   "id": "87528884-b0de-4919-9d94-70b1b0d63d1c",
   "metadata": {},
   "outputs": [],
   "source": [
    "write_submission(y_test, 'submissions', submission_name='knn_time_series_1.csv')"
   ]
  }
 ],
 "metadata": {
  "kernelspec": {
   "display_name": "Python 3 (ipykernel)",
   "language": "python",
   "name": "python3"
  },
  "language_info": {
   "codemirror_mode": {
    "name": "ipython",
    "version": 3
   },
   "file_extension": ".py",
   "mimetype": "text/x-python",
   "name": "python",
   "nbconvert_exporter": "python",
   "pygments_lexer": "ipython3",
   "version": "3.9.7"
  }
 },
 "nbformat": 4,
 "nbformat_minor": 5
}
