{
 "cells": [
  {
   "cell_type": "code",
   "execution_count": null,
   "id": "de9c73b6-d09f-466d-ad9b-77a006565763",
   "metadata": {},
   "outputs": [],
   "source": [
    "#! /usr/bin/env python\n",
    "# -*- coding: utf-8 -*-\n",
    "# Authors: Maxime Goffart and Olivier Joris\n",
    "\n",
    "import os\n",
    "import numpy as np\n",
    "import matplotlib.pyplot as plt\n",
    "\n",
    "from sklearn.ensemble import ExtraTreesClassifier\n",
    "from sklearn.feature_selection import SelectFromModel\n",
    "from sklearn.impute import KNNImputer\n",
    "\n",
    "def load_data(data_path):\n",
    "    \"\"\"\n",
    "    Load the data for the classifer.\n",
    "    Method given with the assignment. Authors: Antonio Sutera & Yann Claes.\n",
    "\n",
    "    Argument:\n",
    "    ---------\n",
    "    - `data_path`: Path to the data folder.\n",
    "    \"\"\"\n",
    "\n",
    "    FEATURES = range(2, 33)\n",
    "    N_TIME_SERIES = 3500\n",
    "\n",
    "    # Create the training and testing samples\n",
    "    LS_path = os.path.join(data_path, 'LS')\n",
    "    TS_path = os.path.join(data_path, 'TS')\n",
    "    X_train, X_test = [np.zeros((N_TIME_SERIES, (len(FEATURES) * 512))) for i in range(2)]\n",
    "\n",
    "    for f in FEATURES:\n",
    "        data = np.loadtxt(os.path.join(LS_path, 'LS_sensor_{}.txt'.format(f)))\n",
    "        X_train[:, (f-2)*512:(f-2+1)*512] = data\n",
    "        data = np.loadtxt(os.path.join(TS_path, 'TS_sensor_{}.txt'.format(f)))\n",
    "        X_test[:, (f-2)*512:(f-2+1)*512] = data\n",
    "    \n",
    "    y_train = np.loadtxt(os.path.join(LS_path, 'activity_Id.txt'))\n",
    "\n",
    "    print('X_train size: {}.'.format(X_train.shape))\n",
    "    print('y_train size: {}.'.format(y_train.shape))\n",
    "    print('X_test size: {}.'.format(X_test.shape))\n",
    "\n",
    "    return X_train, y_train, X_test\n",
    "\n",
    "\n",
    "def write_submission(y, where, submission_name='toy_submission.csv'):\n",
    "    \"\"\"\n",
    "    Method given with the assignment. Authors: Antonio Sutera & Yann Claes.\n",
    "\n",
    "    Arguments:\n",
    "    ----------\n",
    "    - `y`: Predictions to write.\n",
    "    - `where`: Path to the file in which to write.\n",
    "    - `submission_name`: Name of the file.\n",
    "    \"\"\"\n",
    "\n",
    "    os.makedirs(where, exist_ok=True)\n",
    "\n",
    "    SUBMISSION_PATH = os.path.join(where, submission_name)\n",
    "    if os.path.exists(SUBMISSION_PATH):\n",
    "        os.remove(SUBMISSION_PATH)\n",
    "\n",
    "    y = y.astype(int)\n",
    "    outputs = np.unique(y)\n",
    "\n",
    "    # Verify conditions on the predictions\n",
    "    if np.max(outputs) > 14:\n",
    "        raise ValueError('Class {} does not exist.'.format(np.max(outputs)))\n",
    "    if np.min(outputs) < 1:\n",
    "        raise ValueError('Class {} does not exist.'.format(np.min(outputs)))\n",
    "    \n",
    "    # Write submission file\n",
    "    with open(SUBMISSION_PATH, 'a') as file:\n",
    "        n_samples = len(y)\n",
    "        if n_samples != 3500:\n",
    "            raise ValueError('Check the number of predicted values.')\n",
    "\n",
    "        file.write('Id,Prediction\\n')\n",
    "\n",
    "        for n, i in enumerate(y):\n",
    "            file.write('{},{}\\n'.format(n+1, int(i)))\n",
    "\n",
    "    print('Submission {} saved in {}.'.format(submission_name, SUBMISSION_PATH))\n",
    "\n",
    "def compute_proportion_subjects():\n",
    "    \"\"\"\n",
    "    Compute the proportions of the subjects and the activities.\n",
    "    \"\"\"\n",
    "\n",
    "    LS = np.loadtxt(os.path.join('data/LS', 'subject_Id.txt'))\n",
    "    activity = np.loadtxt(os.path.join('data/LS', 'activity_Id.txt'))\n",
    "\n",
    "    unique_activity, count_activity = np.unique(activity, return_counts = True)\n",
    "    unique_ls, count_ls = np.unique(LS, return_counts = True)\n",
    "    \n",
    "    plt.bar(unique_activity, count_activity, width=0.5, bottom=None, align='center', data=None)\n",
    "    plt.title(\"Repartition of the activties in the learning set\")\n",
    "    plt.xlabel(\"activity id\")\n",
    "    plt.ylabel(\"number of instances\")\n",
    "    plt.show()\n",
    "    \n",
    "    plt.bar(unique_ls, count_ls, width=0.5, bottom=None, align='center', data=None)\n",
    "    plt.title(\"Repartition of the subject id in the learning set\")\n",
    "    plt.xlabel(\"subject id\")\n",
    "    plt.ylabel(\"number of instances\")\n",
    "    plt.show()"
   ]
  },
  {
   "cell_type": "code",
   "execution_count": 4,
   "id": "5d6d0fb7-fcea-49ee-9781-880374e49e29",
   "metadata": {},
   "outputs": [
    {
     "data": {
      "image/png": "[encoded data removed]",
      "text/plain": [
       "<Figure size 432x288 with 1 Axes>"
      ]
     },
     "metadata": {
      "needs_background": "light"
     },
     "output_type": "display_data"
    },
    {
     "data": {
      "image/png": "[encoded data removed]",
      "text/plain": [
       "<Figure size 432x288 with 1 Axes>"
      ]
     },
     "metadata": {
      "needs_background": "light"
     },
     "output_type": "display_data"
    }
   ],
   "source": [
    "if __name__ == '__main__':\n",
    "    # Compute proportion of subjects\n",
    "    compute_proportion_subjects()"
   ]
  },
  {
   "cell_type": "code",
   "execution_count": 86,
   "id": "6b0152df-d469-428b-81f0-227d9b14d8fd",
   "metadata": {},
   "outputs": [
    {
     "name": "stdout",
     "output_type": "stream",
     "text": [
      "X_train size: (3500, 15872).\n",
      "y_train size: (3500,).\n",
      "X_test size: (3500, 15872).\n"
     ]
    }
   ],
   "source": [
    "    # Directory containing the data folders\n",
    "    DATA_PATH = 'data'\n",
    "    X_train, y_train, X_test = load_data(DATA_PATH)"
   ]
  },
  {
   "cell_type": "code",
   "execution_count": 87,
   "id": "2643ff4a-b724-4758-9bcf-dc4effa5501c",
   "metadata": {},
   "outputs": [
    {
     "name": "stdout",
     "output_type": "stream",
     "text": [
      "[[122.79       122.78       122.77       ... -22.3310319  -21.82152139\n",
      "  -21.82350506]\n",
      " [ 66.          66.          66.         ... -23.83       -23.83\n",
      "  -23.83      ]\n",
      " [100.         100.         100.         ... -25.39       -25.34\n",
      "  -25.39      ]\n",
      " ...\n",
      " [126.53       126.54       126.55       ... -18.94137966 -18.25588232\n",
      "  -17.89140167]\n",
      " [ 76.8         76.81        76.82       ... -37.95       -37.95\n",
      "  -37.95      ]\n",
      " [ 95.38        95.41        95.44       ... -17.15       -17.15\n",
      "  -17.15      ]]\n"
     ]
    }
   ],
   "source": [
    "    # Replace missing values\n",
    "    imputer = KNNImputer(n_neighbors = 5, weights = 'distance', missing_values = -999999.99)\n",
    "    X_train = imputer.fit_transform(X_train)"
   ]
  },
  {
   "cell_type": "code",
   "execution_count": 88,
   "id": "4ec0638d-c0ff-42cc-b138-1f009a819037",
   "metadata": {},
   "outputs": [
    {
     "name": "stdout",
     "output_type": "stream",
     "text": [
      "Shape before feature selection: (3500, 15872)\n",
      "Shape after feature selection: (3500, 4723)\n",
      "[[122.79       122.78       122.77       ... -24.76446496 -22.33510536\n",
      "  -21.82350506]\n",
      " [ 66.          66.          66.         ... -23.83       -23.83\n",
      "  -23.83      ]\n",
      " [100.         100.         100.         ... -26.66       -25.34\n",
      "  -25.39      ]\n",
      " ...\n",
      " [126.53       126.54       126.55       ... -23.07884099 -20.31072252\n",
      "  -17.89140167]\n",
      " [ 76.8         76.81        76.82       ... -37.95       -37.95\n",
      "  -37.95      ]\n",
      " [ 95.38        95.41        95.44       ... -17.15       -17.15\n",
      "  -17.15      ]]\n"
     ]
    }
   ],
   "source": [
    "    # Features selection\n",
    "    etc = ExtraTreesClassifier(n_estimators = 1000, random_state = 0)\n",
    "    \n",
    "    print(\"Shape before feature selection: \" + str(X_train.shape))\n",
    "    \n",
    "    selector = SelectFromModel(estimator = etc).fit(X_train, y_train)\n",
    "    X_train = selector.transform(X_train)\n",
    "    X_test = selector.transform(X_test)\n",
    "    \n",
    "    print(\"Shape after feature selection: \" + str(X_train.shape))"
   ]
  },
  {
   "cell_type": "code",
   "execution_count": null,
   "id": "58e7c6b3-d5f9-4bdf-8534-96ec90e81eb8",
   "metadata": {},
   "outputs": [],
   "source": []
  }
 ],
 "metadata": {
  "kernelspec": {
   "display_name": "Python 3",
   "language": "python",
   "name": "python3"
  },
  "language_info": {
   "codemirror_mode": {
    "name": "ipython",
    "version": 3
   },
   "file_extension": ".py",
   "mimetype": "text/x-python",
   "name": "python",
   "nbconvert_exporter": "python",
   "pygments_lexer": "ipython3",
   "version": "3.9.6"
  }
 },
 "nbformat": 4,
 "nbformat_minor": 5
}
