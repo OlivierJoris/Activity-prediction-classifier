{
 "cells": [
  {
   "cell_type": "code",
   "execution_count": 1,
   "id": "282f09f9-2025-4256-aeaa-b3c055a181ae",
   "metadata": {},
   "outputs": [],
   "source": [
    "# Authors: Maxime Goffart and Olivier Joris\n",
    "\n",
    "import os\n",
    "import numpy as np\n",
    "\n",
    "from sklearn.ensemble import RandomForestClassifier\n",
    "from sklearn.model_selection import cross_val_score\n",
    "from sklearn.ensemble import ExtraTreesClassifier\n",
    "from sklearn.feature_selection import SelectFromModel\n",
    "from sklearn.impute import KNNImputer"
   ]
  },
  {
   "cell_type": "code",
   "execution_count": 2,
   "id": "678a558a-e841-41f1-bf9a-3b8f40470dd8",
   "metadata": {},
   "outputs": [],
   "source": [
    "def load_data(data_path):\n",
    "    \"\"\"\n",
    "    Load the data for the classifer.\n",
    "    Modified from the method given with the assignment. Authors: Antonio Sutera & Yann Claess.\n",
    "\n",
    "    Argument:\n",
    "    ---------\n",
    "    - `data_path`: Path to the data folder.\n",
    "    \"\"\"\n",
    "\n",
    "    FEATURES = range(2, 33)\n",
    "    N_TIME_SERIES = 3500\n",
    "    \n",
    "    print(\"Loading data...\")\n",
    "\n",
    "    # Create the training and testing samples\n",
    "    LS_path = os.path.join(data_path, 'LS')\n",
    "    TS_path = os.path.join(data_path, 'TS')\n",
    "    X_train, X_test = [np.zeros((N_TIME_SERIES, (len(FEATURES) * 512))) for i in range(2)]\n",
    "\n",
    "    for f in FEATURES:\n",
    "        print(\"Loadinf feature {}...\".format(f))\n",
    "        data = np.loadtxt(os.path.join(LS_path, 'LS_sensor_{}.txt'.format(f)))\n",
    "        X_train[:, (f-2)*512:(f-2+1)*512] = data\n",
    "        data = np.loadtxt(os.path.join(TS_path, 'TS_sensor_{}.txt'.format(f)))\n",
    "        X_test[:, (f-2)*512:(f-2+1)*512] = data\n",
    "    \n",
    "    y_train = np.loadtxt(os.path.join(LS_path, 'activity_Id.txt'))\n",
    "\n",
    "    print('X_train size: {}.'.format(X_train.shape))\n",
    "    print('y_train size: {}.'.format(y_train.shape))\n",
    "    print('X_test size: {}.'.format(X_test.shape))\n",
    "    \n",
    "    # Replace missing values\n",
    "    print(\"Replace missing values...\")\n",
    "    imputer = KNNImputer(n_neighbors = 5, weights = 'distance', missing_values = -999999.99)\n",
    "    X_train = imputer.fit_transform(X_train)\n",
    "\n",
    "    # Features selection\n",
    "    print(\"Features selection...\")\n",
    "    etc = ExtraTreesClassifier(n_estimators = 1000, random_state=0)\n",
    "\n",
    "    print(\"X_train shape before feature selection: \" + str(X_train.shape))\n",
    "\n",
    "    print(\"SelectFromModel...\")\n",
    "    selector = SelectFromModel(estimator = etc).fit(X_train, y_train)\n",
    "    print(\"Transform X_train...\")\n",
    "    X_train = selector.transform(X_train)\n",
    "    print(\"Transform X_test...\")\n",
    "    X_test = selector.transform(X_test)\n",
    "\n",
    "    print(\"X_train shape after feature selection: \" + str(X_train.shape))\n",
    "    print(\"y_train shape after feature selection: \" + str(y_train.shape))\n",
    "\n",
    "    return X_train, y_train, X_test"
   ]
  },
  {
   "cell_type": "code",
   "execution_count": 3,
   "id": "78ab0cf5-5e18-48ac-8c8b-f6add5a49f69",
   "metadata": {},
   "outputs": [
    {
     "name": "stdout",
     "output_type": "stream",
     "text": [
      "Loading data...\n",
      "Loadinf feature 2...\n",
      "Loadinf feature 3...\n",
      "Loadinf feature 4...\n",
      "Loadinf feature 5...\n",
      "Loadinf feature 6...\n",
      "Loadinf feature 7...\n",
      "Loadinf feature 8...\n",
      "Loadinf feature 9...\n",
      "Loadinf feature 10...\n",
      "Loadinf feature 11...\n",
      "Loadinf feature 12...\n",
      "Loadinf feature 13...\n",
      "Loadinf feature 14...\n",
      "Loadinf feature 15...\n",
      "Loadinf feature 16...\n",
      "Loadinf feature 17...\n",
      "Loadinf feature 18...\n",
      "Loadinf feature 19...\n",
      "Loadinf feature 20...\n",
      "Loadinf feature 21...\n",
      "Loadinf feature 22...\n",
      "Loadinf feature 23...\n",
      "Loadinf feature 24...\n",
      "Loadinf feature 25...\n",
      "Loadinf feature 26...\n",
      "Loadinf feature 27...\n",
      "Loadinf feature 28...\n",
      "Loadinf feature 29...\n",
      "Loadinf feature 30...\n",
      "Loadinf feature 31...\n",
      "Loadinf feature 32...\n",
      "X_train size: (3500, 15872).\n",
      "y_train size: (3500,).\n",
      "X_test size: (3500, 15872).\n",
      "Replace missing values...\n",
      "Features selection...\n",
      "X_train shape before feature selection: (3500, 15872)\n",
      "SelectFromModel...\n",
      "Transform X_train...\n",
      "Transform X_test...\n",
      "X_train shape after feature selection: (3500, 4742)\n",
      "y_train shape after feature selection: (3500,)\n"
     ]
    }
   ],
   "source": [
    "X_train, y_train, X_test = load_data('data')"
   ]
  },
  {
   "cell_type": "code",
   "execution_count": 4,
   "id": "7ff758a9-b20e-4654-9a08-5d0da5143d8e",
   "metadata": {},
   "outputs": [
    {
     "name": "stdout",
     "output_type": "stream",
     "text": [
      "0.9074285714285713\n"
     ]
    }
   ],
   "source": [
    "forest = RandomForestClassifier(n_estimators=40, min_samples_split=25, n_jobs=-1, random_state=0)\n",
    "scores = cross_val_score(forest, X_train, y_train, cv=10, n_jobs=-1)\n",
    "print(scores.mean())"
   ]
  }
 ],
 "metadata": {
  "kernelspec": {
   "display_name": "Python 3 (ipykernel)",
   "language": "python",
   "name": "python3"
  },
  "language_info": {
   "codemirror_mode": {
    "name": "ipython",
    "version": 3
   },
   "file_extension": ".py",
   "mimetype": "text/x-python",
   "name": "python",
   "nbconvert_exporter": "python",
   "pygments_lexer": "ipython3",
   "version": "3.9.7"
  }
 },
 "nbformat": 4,
 "nbformat_minor": 5
}
