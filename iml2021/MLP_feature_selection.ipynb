{
 "cells": [
  {
   "cell_type": "code",
   "execution_count": 9,
   "id": "1ef217a1-60fc-49a8-b0ae-3068f00dfcbf",
   "metadata": {},
   "outputs": [],
   "source": [
    "#! /usr/bin/env python\n",
    "# -*- coding: utf-8 -*-\n",
    "# Authors: Maxime Goffart and Olivier Joris\n",
    "\n",
    "import os\n",
    "import numpy as np\n",
    "import matplotlib.pyplot as plt\n",
    "import random\n",
    "\n",
    "from sklearn.neural_network import MLPClassifier\n",
    "from sklearn.feature_selection import SelectFromModel\n",
    "from sklearn.impute import KNNImputer\n",
    "from sklearn.model_selection import cross_val_score\n",
    "from sklearn.ensemble import ExtraTreesClassifier\n",
    "from sklearn.impute import KNNImputer\n",
    "from scipy import stats\n",
    "from scipy.signal import find_peaks\n",
    "from sklearn.metrics import accuracy_score\n",
    "\n",
    "def load_data(data_path):\n",
    "    \"\"\"\n",
    "    Load the data for the classifer.\n",
    "    Method given with the assignment. Authors: Antonio Sutera & Yann Claess.\n",
    "\n",
    "    Argument:\n",
    "    ---------\n",
    "    - `data_path`: Path to the data folder.\n",
    "    \"\"\"\n",
    "\n",
    "    FEATURES = range(2, 33)\n",
    "    N_TIME_SERIES = 3500\n",
    "\n",
    "    # Create the training and testing samples\n",
    "    LS_path = os.path.join(data_path, 'LS')\n",
    "    TS_path = os.path.join(data_path, 'TS')\n",
    "    X_train, X_test = [np.zeros((N_TIME_SERIES, (len(FEATURES) * 512))) for i in range(2)]\n",
    "\n",
    "    for f in FEATURES:\n",
    "        data = np.loadtxt(os.path.join(LS_path, 'LS_sensor_{}.txt'.format(f)))\n",
    "        X_train[:, (f-2)*512:(f-2+1)*512] = data\n",
    "        data = np.loadtxt(os.path.join(TS_path, 'TS_sensor_{}.txt'.format(f)))\n",
    "        X_test[:, (f-2)*512:(f-2+1)*512] = data\n",
    "    \n",
    "    y_train = np.loadtxt(os.path.join(LS_path, 'activity_Id.txt'))\n",
    "\n",
    "    print('X_train size: {}.'.format(X_train.shape))\n",
    "    print('y_train size: {}.'.format(y_train.shape))\n",
    "    print('X_test size: {}.'.format(X_test.shape))\n",
    "\n",
    "    return X_train, y_train, X_test\n",
    "\n",
    "# Author: Antonio Sutera & Yann Claess\n",
    "def write_submission(y, where, submission_name='toy_submission.csv'):\n",
    "    \"\"\"\n",
    "    Method given with the assignment. Authors: Antonio Sutera & Yann Claess.\n",
    "\n",
    "    Arguments:\n",
    "    ----------\n",
    "    - `y`: Predictions to write.\n",
    "    - `where`: Path to the file in which to write.\n",
    "    - `submission_name`: Name of the file.\n",
    "    \"\"\"\n",
    "\n",
    "    os.makedirs(where, exist_ok=True)\n",
    "\n",
    "    SUBMISSION_PATH = os.path.join(where, submission_name)\n",
    "    if os.path.exists(SUBMISSION_PATH):\n",
    "        os.remove(SUBMISSION_PATH)\n",
    "\n",
    "    y = y.astype(int)\n",
    "    outputs = np.unique(y)\n",
    "\n",
    "    # Verify conditions on the predictions\n",
    "    if np.max(outputs) > 14:\n",
    "        raise ValueError('Class {} does not exist.'.format(np.max(outputs)))\n",
    "    if np.min(outputs) < 1:\n",
    "        raise ValueError('Class {} does not exist.'.format(np.min(outputs)))\n",
    "    \n",
    "    # Write submission file\n",
    "    with open(SUBMISSION_PATH, 'a') as file:\n",
    "        n_samples = len(y)\n",
    "        if n_samples != 3500:\n",
    "            raise ValueError('Check the number of predicted values.')\n",
    "\n",
    "        file.write('Id,Prediction\\n')\n",
    "\n",
    "        for n, i in enumerate(y):\n",
    "            file.write('{},{}\\n'.format(n+1, int(i)))\n",
    "\n",
    "    print('Submission {} saved in {}.'.format(submission_name, SUBMISSION_PATH))\n",
    "\n",
    "def compute_proportion_subjects():\n",
    "    \"\"\"\n",
    "    Compute the proportions of the subjects and the activities.\n",
    "    \"\"\"\n",
    "\n",
    "    LS = np.loadtxt(os.path.join('data/LS', 'subject_Id.txt'))\n",
    "    activity = np.loadtxt(os.path.join('data/LS', 'activity_Id.txt'))\n",
    "\n",
    "    unique_activity, count_activity = np.unique(activity, return_counts = True)\n",
    "    unique_ls, count_ls = np.unique(LS, return_counts = True)\n",
    "    \n",
    "    plt.bar(unique_activity, count_activity, width=0.5, bottom=None, align='center', data=None)\n",
    "    plt.title(\"Repartition of the activties in the learning set\")\n",
    "    plt.xlabel(\"activity id\")\n",
    "    plt.ylabel(\"number of instances\")\n",
    "    plt.show()\n",
    "    \n",
    "    plt.bar(unique_ls, count_ls, width=0.5, bottom=None, align='center', data=None)\n",
    "    plt.title(\"Repartition of the subject id in the learning set\")\n",
    "    plt.xlabel(\"subject id\")\n",
    "    plt.ylabel(\"number of instances\")\n",
    "    plt.show()"
   ]
  },
  {
   "cell_type": "code",
   "execution_count": 2,
   "id": "c1a8b976-1c9b-4b40-9390-c7c09680d994",
   "metadata": {},
   "outputs": [
    {
     "name": "stdout",
     "output_type": "stream",
     "text": [
      "X_train size: (3500, 15872).\n",
      "y_train size: (3500,).\n",
      "X_test size: (3500, 15872).\n"
     ]
    }
   ],
   "source": [
    "if __name__ == '__main__':\n",
    "    # Directory containing the data folders\n",
    "    DATA_PATH = 'data'\n",
    "    X_train, y_train, X_test = load_data(DATA_PATH)"
   ]
  },
  {
   "cell_type": "code",
   "execution_count": 3,
   "id": "b9f2edd4-6fbc-4e06-9e91-d10735cd067e",
   "metadata": {},
   "outputs": [],
   "source": [
    "    # Replace missing values\n",
    "    imputer = KNNImputer(n_neighbors = 5, weights = 'distance', missing_values = -999999.99)\n",
    "    X_train = imputer.fit_transform(X_train)"
   ]
  },
  {
   "cell_type": "code",
   "execution_count": 7,
   "id": "b4827677-8903-463e-b5f3-e748353906d5",
   "metadata": {},
   "outputs": [
    {
     "name": "stdout",
     "output_type": "stream",
     "text": [
      "Shape before feature selection: (3500, 15872)\n",
      "Shape after feature selection: (3500, 3607)\n"
     ]
    }
   ],
   "source": [
    "    # Feature selection\n",
    "    etc = ExtraTreesClassifier(random_state = 0)\n",
    "    print(\"Shape before feature selection: \" + str(X_train.shape))\n",
    "    \n",
    "    selector = SelectFromModel(estimator = etc).fit(X_train, y_train)\n",
    "    X_train = selector.transform(X_train)\n",
    "    X_test = selector.transform(X_test)\n",
    "    \n",
    "    print(\"Shape after feature selection: \" + str(X_train.shape))"
   ]
  },
  {
   "cell_type": "code",
   "execution_count": 13,
   "id": "1202894b-e470-49b3-8af8-47192d64d896",
   "metadata": {
    "tags": []
   },
   "outputs": [
    {
     "name": "stderr",
     "output_type": "stream",
     "text": [
      "/home/olivierjoris/miniconda3/envs/ELEN0062/lib/python3.9/site-packages/sklearn/neural_network/_multilayer_perceptron.py:614: ConvergenceWarning: Stochastic Optimizer: Maximum iterations (200) reached and the optimization hasn't converged yet.\n",
      "  warnings.warn(\n",
      "/home/olivierjoris/miniconda3/envs/ELEN0062/lib/python3.9/site-packages/sklearn/neural_network/_multilayer_perceptron.py:614: ConvergenceWarning: Stochastic Optimizer: Maximum iterations (200) reached and the optimization hasn't converged yet.\n",
      "  warnings.warn(\n"
     ]
    },
    {
     "data": {
      "image/png": "[encoded data removed]",
      "text/plain": [
       "<Figure size 432x288 with 1 Axes>"
      ]
     },
     "metadata": {
      "needs_background": "light"
     },
     "output_type": "display_data"
    }
   ],
   "source": [
    "    LS_path = os.path.join(DATA_PATH, 'LS')   \n",
    "    LS_subject_id = np.loadtxt(os.path.join(LS_path, 'subject_Id.txt'))\n",
    "    \n",
    "    iter_nb = 5\n",
    "    \n",
    "    ids = [1, 2, 3, 4, 5]\n",
    "    learning_id = [0, 0, 0]   \n",
    "    scores = np.zeros(iter_nb)\n",
    "    \n",
    "    random.seed()\n",
    "    \n",
    "    learning_id = [0,0,0]\n",
    "    \n",
    "    gen_score = []\n",
    "    number_neurons = []\n",
    "    \n",
    "    for x in range(50, 250, 50):\n",
    "        for j in range(iter_nb):\n",
    "            random.shuffle(ids)\n",
    "\n",
    "            for i in range(3):\n",
    "                learning_id[i] = ids[i]\n",
    "\n",
    "            unique_ls, count_ls = np.unique(LS_subject_id, return_counts = True)\n",
    "\n",
    "            count = np.asarray((unique_ls, count_ls))\n",
    "\n",
    "            training_size = int(count[1][learning_id[0] - 1] + count[1][learning_id[1] - 1] + count[1][learning_id[2] - 1])\n",
    "\n",
    "            X_train_split = np.zeros((training_size, X_train.shape[1]))\n",
    "            X_test_split = np.zeros((3500 - training_size, X_test.shape[1]))\n",
    "\n",
    "            y_train_split = np.zeros((training_size))\n",
    "            y_test_split = np.zeros((3500 - training_size))\n",
    "\n",
    "            training_current_size, testing_current_size = 0, 0\n",
    "\n",
    "            for i in range(3500):\n",
    "                if LS_subject_id[i] in learning_id:\n",
    "                    X_train_split[training_current_size] = X_train[i]\n",
    "                    y_train_split[training_current_size] = y_train[i]\n",
    "                    training_current_size += 1\n",
    "                else:\n",
    "                    X_test_split[testing_current_size] = X_train[i]\n",
    "                    y_test_split[testing_current_size] = y_train[i]\n",
    "                    testing_current_size += 1\n",
    "\n",
    "            rf = MLPClassifier(random_state = 0, hidden_layer_sizes = (x,)).fit(X_train_split, y_train_split)\n",
    "            y_pred = rf.predict(X_test_split)\n",
    "            scores[j] = accuracy_score(y_test_split, y_pred)\n",
    "\n",
    "        gen_score.append(np.mean(scores))\n",
    "        number_neurons.append(x)\n",
    "              \n",
    "    plt.plot(number_neurons, gen_score)\n",
    "    plt.xlabel(\"Number of neurons\")\n",
    "    plt.ylabel(\"Accuracy\")\n",
    "    plt.title(\"Mean accuracies of MLP with feature selection according to the number of neurons.\")\n",
    "    plt.savefig('MLP_feature_selection_neurons.png')\n",
    "    plt.show()"
   ]
  },
  {
   "cell_type": "code",
   "execution_count": 14,
   "id": "94aa50f4-c751-45a9-bd28-486a14c21c4e",
   "metadata": {},
   "outputs": [
    {
     "name": "stderr",
     "output_type": "stream",
     "text": [
      "/home/olivierjoris/miniconda3/envs/ELEN0062/lib/python3.9/site-packages/sklearn/neural_network/_multilayer_perceptron.py:614: ConvergenceWarning: Stochastic Optimizer: Maximum iterations (200) reached and the optimization hasn't converged yet.\n",
      "  warnings.warn(\n",
      "/home/olivierjoris/miniconda3/envs/ELEN0062/lib/python3.9/site-packages/sklearn/neural_network/_multilayer_perceptron.py:614: ConvergenceWarning: Stochastic Optimizer: Maximum iterations (200) reached and the optimization hasn't converged yet.\n",
      "  warnings.warn(\n",
      "/home/olivierjoris/miniconda3/envs/ELEN0062/lib/python3.9/site-packages/sklearn/neural_network/_multilayer_perceptron.py:614: ConvergenceWarning: Stochastic Optimizer: Maximum iterations (200) reached and the optimization hasn't converged yet.\n",
      "  warnings.warn(\n"
     ]
    },
    {
     "data": {
      "image/png": "[encoded data removed]",
      "text/plain": [
       "<Figure size 432x288 with 1 Axes>"
      ]
     },
     "metadata": {
      "needs_background": "light"
     },
     "output_type": "display_data"
    }
   ],
   "source": [
    "    LS_path = os.path.join(DATA_PATH, 'LS')   \n",
    "    LS_subject_id = np.loadtxt(os.path.join(LS_path, 'subject_Id.txt'))\n",
    "    \n",
    "    iter_nb = 5\n",
    "    \n",
    "    ids = [1, 2, 3, 4, 5]\n",
    "    learning_id = [0, 0, 0]   \n",
    "    scores = np.zeros(iter_nb)\n",
    "    \n",
    "    random.seed()\n",
    "    \n",
    "    learning_id = [0,0,0]\n",
    "    \n",
    "    gen_score = []\n",
    "    number_layers = []\n",
    "    layers = [50]\n",
    "    \n",
    "    for x in range(5):\n",
    "        for j in range(iter_nb):\n",
    "            random.shuffle(ids)\n",
    "\n",
    "            for i in range(3):\n",
    "                learning_id[i] = ids[i]\n",
    "\n",
    "            unique_ls, count_ls = np.unique(LS_subject_id, return_counts = True)\n",
    "\n",
    "            count = np.asarray((unique_ls, count_ls))\n",
    "\n",
    "            training_size = int(count[1][learning_id[0] - 1] + count[1][learning_id[1] - 1] + count[1][learning_id[2] - 1])\n",
    "\n",
    "            X_train_split = np.zeros((training_size, X_train.shape[1]))\n",
    "            X_test_split = np.zeros((3500 - training_size, X_test.shape[1]))\n",
    "\n",
    "            y_train_split = np.zeros((training_size))\n",
    "            y_test_split = np.zeros((3500 - training_size))\n",
    "\n",
    "            training_current_size, testing_current_size = 0, 0\n",
    "\n",
    "            for i in range(3500):\n",
    "                if LS_subject_id[i] in learning_id:\n",
    "                    X_train_split[training_current_size] = X_train[i]\n",
    "                    y_train_split[training_current_size] = y_train[i]\n",
    "                    training_current_size += 1\n",
    "                else:\n",
    "                    X_test_split[testing_current_size] = X_train[i]\n",
    "                    y_test_split[testing_current_size] = y_train[i]\n",
    "                    testing_current_size += 1\n",
    "\n",
    "            rf = MLPClassifier(random_state = 0, hidden_layer_sizes = layers).fit(X_train_split, y_train_split)\n",
    "            y_pred = rf.predict(X_test_split)\n",
    "            scores[j] = accuracy_score(y_test_split, y_pred)\n",
    "\n",
    "        gen_score.append(np.mean(scores))\n",
    "        number_layers.append(x)\n",
    "        layers.append(50)\n",
    "              \n",
    "    plt.plot(number_layers, gen_score)\n",
    "    plt.xlabel(\"Number of layers\")\n",
    "    plt.ylabel(\"Accuracy\")\n",
    "    plt.title(\"Mean accuracies of MLP with feature selection according to the number of layers.\")\n",
    "    plt.savefig('MLP_feature_selection_layers.png')\n",
    "    plt.show()"
   ]
  },
  {
   "cell_type": "code",
   "execution_count": null,
   "id": "c1a12b88-3162-4839-85b5-e1ad22877e33",
   "metadata": {},
   "outputs": [],
   "source": []
  }
 ],
 "metadata": {
  "kernelspec": {
   "display_name": "Python 3",
   "language": "python",
   "name": "python3"
  },
  "language_info": {
   "codemirror_mode": {
    "name": "ipython",
    "version": 3
   },
   "file_extension": ".py",
   "mimetype": "text/x-python",
   "name": "python",
   "nbconvert_exporter": "python",
   "pygments_lexer": "ipython3",
   "version": "3.9.6"
  }
 },
 "nbformat": 4,
 "nbformat_minor": 5
}
